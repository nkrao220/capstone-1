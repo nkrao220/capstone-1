{
 "cells": [
  {
   "cell_type": "code",
   "execution_count": 43,
   "metadata": {},
   "outputs": [],
   "source": [
    "import pandas as pd \n",
    "import numpy as np\n",
    "from sklearn.model_selection import KFold\n",
    "from sklearn.model_selection import train_test_split\n",
    "from sklearn.model_selection import cross_val_score\n",
    "import statsmodels.api as sm\n",
    "import seaborn as sns\n",
    "from sklearn import preprocessing\n",
    "from sklearn.linear_model import Lasso\n",
    "from sklearn.model_selection import GridSearchCV\n",
    "import matplotlib.pyplot as plt\n",
    "%matplotlib inline"
   ]
  },
  {
   "cell_type": "code",
   "execution_count": 44,
   "metadata": {},
   "outputs": [],
   "source": [
    "profile_2017 = pd.read_csv('Chicago_Public_Schools_-_School_Profile_Information_SY1617.csv')\n",
    "header2 = ['Network', 'School_ID', 'School_Name', 'Total', 'White_Student_Count', \n",
    "          'White_Student_Pct', 'African_American_Count', 'African_America_Pct', \n",
    "         'AAPI_Count', 'AAPI_Pct', 'Native_American_Count', 'Native_American_Pct',\n",
    "          'Hispanic_Student_Count', 'Hispanic_Student_Pct', \n",
    "          'Multi-Racial_Student_Count', 'Multi-Racial_Student_Pct', \n",
    "          'Asian_Student_Count', 'Asian_Student_Pct', 'Hawaiian_PI_Count', \n",
    "          'Hawaiian_PI_Pct', 'Not_Available_Count', 'Not_Available_Pct']\n",
    "demo_data_2017 = pd.read_excel('Demographics_RacialEthnic_2017.xls', 'Schools', skiprows=2, names = header2)\n",
    "demo_data_2017['School_ID'].astype(int, inplace=True);"
   ]
  },
  {
   "cell_type": "code",
   "execution_count": 45,
   "metadata": {},
   "outputs": [],
   "source": [
    "profile_merge = pd.merge(demo_data_2017[['Network', 'School_ID']], profile_2017, how='inner', on='School_ID')"
   ]
  },
  {
   "cell_type": "code",
   "execution_count": 46,
   "metadata": {},
   "outputs": [],
   "source": [
    "X_train, X_test = train_test_split(profile_merge, test_size=0.20)"
   ]
  },
  {
   "cell_type": "code",
   "execution_count": 47,
   "metadata": {},
   "outputs": [],
   "source": [
    "grouped_1 = X_train.groupby('Network')\n",
    "network_totals = grouped_1['Student_Count_Total'].sum()\n",
    "black_student_totals = grouped_1['Student_Count_Black'].sum()\n",
    "hispanic_student_totals = grouped_1['Student_Count_Hispanic'].sum()\n",
    "white_student_totals = grouped_1['Student_Count_White'].sum()\n",
    "asian_student_totals = grouped_1['Student_Count_Asian'].sum()\n",
    "native_american_totals = grouped_1['Student_Count_Native_American'].sum()\n",
    "hawaiian_pi_totals = grouped_1['Student_Count_Hawaiian_Pacific_Islander'].sum()\n",
    "asian_pi_totals = grouped_1['Student_Count_Asian_Pacific_Islander'].sum()\n",
    "other_ethnicity_totals = grouped_1['Student_Count_Other_Ethnicity'].sum()\n",
    "multi_totals = grouped_1['Student_Count_Multi'].sum()\n",
    "na_totals = grouped_1['Student_Count_Ethnicity_Not_Available'].sum()"
   ]
  },
  {
   "cell_type": "code",
   "execution_count": 48,
   "metadata": {},
   "outputs": [],
   "source": [
    "df = {'Network_Totals': network_totals, 'Black_Student_Totals': black_student_totals,\n",
    "     'Hispanic_Student_Totals': hispanic_student_totals, 'White_Student_Totals': \n",
    "      white_student_totals, 'Asian_Student_Totals': asian_student_totals, \n",
    "     'Native_American_Student_Totals': native_american_totals, 'Hawaiian_Pacific_Islander_Totals':\n",
    "     hawaiian_pi_totals, 'Asian_Pacific_Islander_Totals': asian_pi_totals, 'Other_Ethnicity_Totals':\n",
    "     other_ethnicity_totals, 'Multi_Ethnicity_Totals': multi_totals, \n",
    "      'Ethnicity_NA_Totals': na_totals}\n",
    "df = pd.DataFrame(df)\n",
    "df.drop('Other_Ethnicity_Totals', axis=1, inplace=True)\n",
    "df['Totals-Ethnicity_NA'] = df['Network_Totals']-df['Ethnicity_NA_Totals']\n",
    "df.drop('Ethnicity_NA_Totals', axis=1, inplace=True)"
   ]
  },
  {
   "cell_type": "code",
   "execution_count": 49,
   "metadata": {},
   "outputs": [],
   "source": [
    "row_total = []\n",
    "test = df['Totals-Ethnicity_NA']\n",
    "for n in range(len(df.index)):\n",
    "    network_total = df.iloc[n, 9]\n",
    "    x = df.iloc[n, 1:9]\n",
    "    row_total.append(sum([(j/network_total)*np.log(1/(j/network_total)) for j in x if j!=0]))\n",
    "df['Network_Entropy'] = np.array(row_total)"
   ]
  },
  {
   "cell_type": "code",
   "execution_count": 50,
   "metadata": {},
   "outputs": [
    {
     "name": "stderr",
     "output_type": "stream",
     "text": [
      "/home/neha/anaconda3/lib/python3.6/site-packages/ipykernel_launcher.py:1: SettingWithCopyWarning: \n",
      "A value is trying to be set on a copy of a slice from a DataFrame.\n",
      "Try using .loc[row_indexer,col_indexer] = value instead\n",
      "\n",
      "See the caveats in the documentation: http://pandas.pydata.org/pandas-docs/stable/indexing.html#indexing-view-versus-copy\n",
      "  \"\"\"Entry point for launching an IPython kernel.\n",
      "/home/neha/anaconda3/lib/python3.6/site-packages/ipykernel_launcher.py:7: SettingWithCopyWarning: \n",
      "A value is trying to be set on a copy of a slice from a DataFrame.\n",
      "Try using .loc[row_indexer,col_indexer] = value instead\n",
      "\n",
      "See the caveats in the documentation: http://pandas.pydata.org/pandas-docs/stable/indexing.html#indexing-view-versus-copy\n",
      "  import sys\n"
     ]
    }
   ],
   "source": [
    "X_train['Network_Entropy'] = X_train['Network']\n",
    "network_list = ['Network 1', 'Network 2', 'Network 3', 'Network 4', 'Network 5', 'Network 6', \n",
    "                'Network 7', 'Network 8', 'Network 9', 'Network 10', 'Network 11', \n",
    "               'Network 12', 'Network 13', 'AUSL', 'Charter', 'Contract', 'ISP', 'Options', \n",
    "               'Service Leadership Academies']\n",
    "mapdict = {network:df.loc[network, 'Network_Entropy'] for network in network_list}\n",
    "X_train['Network_Entropy'] = X_train['Network_Entropy'].map(mapdict)"
   ]
  },
  {
   "cell_type": "code",
   "execution_count": 51,
   "metadata": {},
   "outputs": [
    {
     "name": "stderr",
     "output_type": "stream",
     "text": [
      "/home/neha/anaconda3/lib/python3.6/site-packages/ipykernel_launcher.py:2: SettingWithCopyWarning: \n",
      "A value is trying to be set on a copy of a slice from a DataFrame.\n",
      "Try using .loc[row_indexer,col_indexer] = value instead\n",
      "\n",
      "See the caveats in the documentation: http://pandas.pydata.org/pandas-docs/stable/indexing.html#indexing-view-versus-copy\n",
      "  \n"
     ]
    }
   ],
   "source": [
    "X_train.drop('Student_Count_Other_Ethnicity', axis=1, inplace=True)\n",
    "X_train['Adjusted_Counts'] = X_train['Student_Count_Total'] - X_train['Student_Count_Ethnicity_Not_Available']\n",
    "X_train.drop('Student_Count_Ethnicity_Not_Available', axis=1, inplace=True)"
   ]
  },
  {
   "cell_type": "code",
   "execution_count": 52,
   "metadata": {},
   "outputs": [],
   "source": [
    "row_total = []\n",
    "for i in range(len(X_train.index)):\n",
    "    school_total = X_train.iloc[i, 91]\n",
    "    x = X_train.iloc[i, 36:44]\n",
    "    row_total.append(sum([(i/school_total)*np.log(1/(i/school_total)) for i in x if i!=0]))"
   ]
  },
  {
   "cell_type": "code",
   "execution_count": 53,
   "metadata": {},
   "outputs": [],
   "source": [
    "X_train.loc[:,'School_Entropy'] = np.array(row_total)"
   ]
  },
  {
   "cell_type": "code",
   "execution_count": 54,
   "metadata": {},
   "outputs": [
    {
     "name": "stderr",
     "output_type": "stream",
     "text": [
      "/home/neha/anaconda3/lib/python3.6/site-packages/ipykernel_launcher.py:1: SettingWithCopyWarning: \n",
      "A value is trying to be set on a copy of a slice from a DataFrame.\n",
      "Try using .loc[row_indexer,col_indexer] = value instead\n",
      "\n",
      "See the caveats in the documentation: http://pandas.pydata.org/pandas-docs/stable/indexing.html#indexing-view-versus-copy\n",
      "  \"\"\"Entry point for launching an IPython kernel.\n",
      "/home/neha/anaconda3/lib/python3.6/site-packages/ipykernel_launcher.py:3: SettingWithCopyWarning: \n",
      "A value is trying to be set on a copy of a slice from a DataFrame.\n",
      "Try using .loc[row_indexer,col_indexer] = value instead\n",
      "\n",
      "See the caveats in the documentation: http://pandas.pydata.org/pandas-docs/stable/indexing.html#indexing-view-versus-copy\n",
      "  This is separate from the ipykernel package so we can avoid doing imports until\n"
     ]
    }
   ],
   "source": [
    "X_train['District_Student_Count'] = X_train['Network']\n",
    "mapdict_count = {network: df.loc[network, 'Totals-Ethnicity_NA'] for network in network_list}\n",
    "X_train['District_Student_Count'] = X_train['District_Student_Count'].map(mapdict_count)"
   ]
  },
  {
   "cell_type": "code",
   "execution_count": 55,
   "metadata": {},
   "outputs": [
    {
     "name": "stderr",
     "output_type": "stream",
     "text": [
      "/home/neha/anaconda3/lib/python3.6/site-packages/ipykernel_launcher.py:2: SettingWithCopyWarning: \n",
      "A value is trying to be set on a copy of a slice from a DataFrame.\n",
      "Try using .loc[row_indexer,col_indexer] = value instead\n",
      "\n",
      "See the caveats in the documentation: http://pandas.pydata.org/pandas-docs/stable/indexing.html#indexing-view-versus-copy\n",
      "  \n"
     ]
    }
   ],
   "source": [
    "X_train['School_Theil'] = (X_train['Adjusted_Counts']*(X_train['Network_Entropy']-X_train['School_Entropy'])\n",
    "                    /(X_train['Network_Entropy']*X_train['District_Student_Count']))"
   ]
  },
  {
   "cell_type": "code",
   "execution_count": 56,
   "metadata": {},
   "outputs": [],
   "source": [
    "dropped = X_train.copy()\n",
    "to_drop = ['Long_Name', 'Grades_Offered_All', 'Statistics_Description', 'Demographic_Description', 'School_Hours', 'Freshman_Start_End_Time', 'After_School_Hours', 'Earliest_Drop_Off_Time', 'Classification_Description', 'Third_Contact_Title', 'Third_Contact_Name', 'Fourth_Contact_Title', 'Fourth_Contact_Name', 'Fifth_Contact_Title', 'Fifth_Contact_Name', 'Sixth_Contact_Title', 'Sixth_Contact_Name', 'Seventh_Contact_Title', 'Seventh_Contact_Name', 'Rating_Statement', 'School_Year', 'Significantly_Modified', 'Adjusted_Counts', 'Transportation_Bus', 'Transportation_El', 'Transportation_Metra', 'School_ID', 'Legacy_Unit_ID', 'Finance_ID', 'Short_Name', 'Primary_Category', 'Summary', 'Administrator_Title', 'Administrator', 'Secondary_Contact_Title', 'Secondary_Contact', 'Address', 'City', 'State', 'Zip', 'Phone', 'Fax', 'CPS_School_Profile', 'Website', 'Facebook', 'Twitter', 'Youtube', 'Pinterest', 'Attendance_Boundaries', 'Grades_Offered']\n",
    "dropped.drop(to_drop, axis=1, inplace=True)\n",
    "dropped['PreK_School_Day'] = dropped['PreK_School_Day'].fillna(0)\n",
    "dropped['Kindergarten_School_Day'] = dropped['Kindergarten_School_Day'].fillna(0)\n",
    "dropped['Classroom_Languages'] = dropped['Classroom_Languages'].fillna(0)\n",
    "dropped['Classroom_Languages'] = np.where(dropped['Classroom_Languages'] != 0, 1, 0)\n",
    "idx = dropped.index[~dropped['Classroom_Languages'].isnull()]\n",
    "dropped['Classroom_Languages'].loc[idx]  = 1\n",
    "dropped['Classroom_Languages'].fillna(0, inplace=True)\n",
    "dropped['Bilingual_Services'].fillna(0, inplace=True)\n",
    "dropped['Refugee_Services'].fillna(0, inplace=True)\n",
    "dropped['Title_1_Eligible'].fillna(0, inplace=True)\n",
    "# dropped['PreSchool_Inclusive'] = np.where(dropped['PreSchool_Inclusive'] == 'Y', 1, 0)\n",
    "# dropped['Preschool_Instructional'] = np.where(dropped['Preschool_Instructional'] == 'Y', 1, 0)\n",
    "dropped['Hard_Of_Hearing'].fillna('False', inplace=True)\n",
    "dropped['Visual_Impairments'].fillna('False', inplace=True)\n",
    "dropped['PreSchool_Inclusive'] = np.where(dropped['PreSchool_Inclusive'] == 'Y', 1, 0)\n",
    "dropped['Preschool_Instructional'] = np.where(dropped['Preschool_Instructional'] == 'Y', 1, 0)\n"
   ]
  },
  {
   "cell_type": "code",
   "execution_count": 57,
   "metadata": {},
   "outputs": [],
   "source": [
    "dropped[\"Average_ACT_School\"] = dropped.groupby(\"Network\").transform(lambda x: x.fillna(x.mean()))['Average_ACT_School']"
   ]
  },
  {
   "cell_type": "code",
   "execution_count": 58,
   "metadata": {},
   "outputs": [],
   "source": [
    "dropped[\"College_Enrollment_Rate_School\"] = dropped.groupby(\"Network\").transform(lambda x: x.fillna(x.mean()))['College_Enrollment_Rate_School']"
   ]
  },
  {
   "cell_type": "code",
   "execution_count": 59,
   "metadata": {},
   "outputs": [],
   "source": [
    "dropped[\"Graduation_Rate_School\"] = dropped.groupby(\"Network\").transform(lambda x: x.fillna(x.mean()))['Graduation_Rate_School']"
   ]
  },
  {
   "cell_type": "code",
   "execution_count": 60,
   "metadata": {},
   "outputs": [
    {
     "data": {
      "text/plain": [
       "array(['Good Standing', 'Intensive Support', 'Not Applicable',\n",
       "       'Provisional Support', nan], dtype=object)"
      ]
     },
     "execution_count": 60,
     "metadata": {},
     "output_type": "execute_result"
    }
   ],
   "source": [
    "dropped['Rating_Status'].unique()"
   ]
  },
  {
   "cell_type": "code",
   "execution_count": 61,
   "metadata": {},
   "outputs": [],
   "source": [
    "dropped.dropna(inplace=True)"
   ]
  },
  {
   "cell_type": "code",
   "execution_count": 62,
   "metadata": {},
   "outputs": [
    {
     "name": "stdout",
     "output_type": "stream",
     "text": [
      "<class 'pandas.core.frame.DataFrame'>\n",
      "Int64Index: 524 entries, 294 to 418\n",
      "Data columns (total 45 columns):\n",
      "Network                                    524 non-null object\n",
      "School_Type                                524 non-null object\n",
      "Is_High_School                             524 non-null object\n",
      "Is_Middle_School                           524 non-null object\n",
      "Is_Elementary_School                       524 non-null object\n",
      "Is_Pre_School                              524 non-null object\n",
      "Student_Count_Total                        524 non-null int64\n",
      "Student_Count_Low_Income                   524 non-null int64\n",
      "Student_Count_Special_Ed                   524 non-null int64\n",
      "Student_Count_English_Learners             524 non-null int64\n",
      "Student_Count_Black                        524 non-null int64\n",
      "Student_Count_Hispanic                     524 non-null int64\n",
      "Student_Count_White                        524 non-null int64\n",
      "Student_Count_Asian                        524 non-null int64\n",
      "Student_Count_Native_American              524 non-null int64\n",
      "Student_Count_Asian_Pacific_Islander       524 non-null int64\n",
      "Student_Count_Multi                        524 non-null int64\n",
      "Student_Count_Hawaiian_Pacific_Islander    524 non-null int64\n",
      "ADA_Accessible                             524 non-null object\n",
      "Dress_Code                                 524 non-null object\n",
      "PreK_School_Day                            524 non-null object\n",
      "Kindergarten_School_Day                    524 non-null object\n",
      "Classroom_Languages                        524 non-null int64\n",
      "Bilingual_Services                         524 non-null object\n",
      "Refugee_Services                           524 non-null object\n",
      "Title_1_Eligible                           524 non-null object\n",
      "PreSchool_Inclusive                        524 non-null int64\n",
      "Preschool_Instructional                    524 non-null int64\n",
      "Hard_Of_Hearing                            524 non-null object\n",
      "Visual_Impairments                         524 non-null object\n",
      "School_Latitude                            524 non-null float64\n",
      "School_Longitude                           524 non-null float64\n",
      "Average_ACT_School                         524 non-null float64\n",
      "Mean_ACT                                   524 non-null float64\n",
      "College_Enrollment_Rate_School             524 non-null float64\n",
      "College_Enrollment_Rate_Mean               524 non-null float64\n",
      "Graduation_Rate_School                     524 non-null float64\n",
      "Graduation_Rate_Mean                       524 non-null float64\n",
      "Overall_Rating                             524 non-null object\n",
      "Rating_Status                              524 non-null object\n",
      "Location                                   524 non-null object\n",
      "Network_Entropy                            524 non-null float64\n",
      "School_Entropy                             524 non-null float64\n",
      "District_Student_Count                     524 non-null int64\n",
      "School_Theil                               524 non-null float64\n",
      "dtypes: float64(11), int64(16), object(18)\n",
      "memory usage: 188.3+ KB\n"
     ]
    }
   ],
   "source": [
    "dropped.info()"
   ]
  },
  {
   "cell_type": "code",
   "execution_count": 63,
   "metadata": {},
   "outputs": [
    {
     "data": {
      "text/plain": [
       "array([1])"
      ]
     },
     "execution_count": 63,
     "metadata": {},
     "output_type": "execute_result"
    }
   ],
   "source": [
    "dropped['Classroom_Languages'].unique()\n",
    "# drop District_Student_Count, School_Entropy, Network_Entropy, Location, Overall Rating, Graduation_Rate_Mean, 'College_Enrollment_Rate_Mean', \n",
    "# 'Mean_ACT', School_Latitude, School_Longitude, Classroom_Languages\n",
    "\n",
    "# dummies: PreK_School_Day, DA_Accessible, School_Type"
   ]
  },
  {
   "cell_type": "code",
   "execution_count": 64,
   "metadata": {},
   "outputs": [],
   "source": [
    "dropped['Visual_Impairments'] = np.where(dropped['Visual_Impairments']=='Y', 1, 0)\n",
    "dropped['Hard_Of_Hearing'] = np.where(dropped['Hard_Of_Hearing']=='Y', 1, 0)\n",
    "dropped['Title_1_Eligible'] = np.where(dropped['Title_1_Eligible']=='Y', 1, 0)\n",
    "dropped['Refugee_Services'] = np.where(dropped['Refugee_Services']=='Y', 1, 0)\n",
    "dropped['Bilingual_Services'] = np.where(dropped['Bilingual_Services']=='Y', 1, 0)\n",
    "dropped['Kindergarten_School_Day'] = np.where(dropped['Kindergarten_School_Day']=='Full Day', 1, 0)\n",
    "dropped['Dress_Code'] = np.where(dropped['Dress_Code']=='Y', 1, 0)\n",
    "dropped['Is_Pre_School'] = np.where(dropped['Is_Pre_School']=='Y', 1, 0)\n",
    "dropped['Is_Elementary_School'] = np.where(dropped['Is_Elementary_School']=='Y', 1, 0)\n",
    "dropped['Is_Middle_School'] = np.where(dropped['Is_Middle_School']=='Y', 1, 0)\n",
    "dropped['Is_High_School'] = np.where(dropped['Is_High_School']=='Y', 1, 0)"
   ]
  },
  {
   "cell_type": "code",
   "execution_count": 65,
   "metadata": {},
   "outputs": [],
   "source": [
    "# dropped['Hard_Of_Hearing'] = np.where(dropped['Hard_Of_Hearing']=='Y', 1, 0)"
   ]
  },
  {
   "cell_type": "code",
   "execution_count": 66,
   "metadata": {},
   "outputs": [],
   "source": [
    "# dropped['Title_1_Eligible'] = np.where(dropped['Title_1_Eligible']=='Y', 1, 0)"
   ]
  },
  {
   "cell_type": "code",
   "execution_count": 67,
   "metadata": {},
   "outputs": [],
   "source": [
    "# dropped['Refugee_Services'] = np.where(dropped['Refugee_Services']=='Y', 1, 0)"
   ]
  },
  {
   "cell_type": "code",
   "execution_count": 68,
   "metadata": {},
   "outputs": [],
   "source": [
    "# dropped['Bilingual_Services'] = np.where(dropped['Bilingual_Services']=='Y', 1, 0)"
   ]
  },
  {
   "cell_type": "code",
   "execution_count": 69,
   "metadata": {},
   "outputs": [],
   "source": [
    "# dropped['Kindergarten_School_Day'] = np.where(dropped['Kindergarten_School_Day']=='Full Day', 1, 0)"
   ]
  },
  {
   "cell_type": "code",
   "execution_count": 70,
   "metadata": {},
   "outputs": [],
   "source": [
    "# dropped['Dress_Code'] = np.where(dropped['Dress_Code']=='Y', 1, 0)"
   ]
  },
  {
   "cell_type": "code",
   "execution_count": 71,
   "metadata": {},
   "outputs": [],
   "source": [
    "# dropped['Is_Pre_School'] = np.where(dropped['Is_Pre_School']=='Y', 1, 0)"
   ]
  },
  {
   "cell_type": "code",
   "execution_count": 72,
   "metadata": {},
   "outputs": [],
   "source": [
    "# dropped['Is_Elementary_School'] = np.where(dropped['Is_Elementary_School']=='Y', 1, 0)"
   ]
  },
  {
   "cell_type": "code",
   "execution_count": 73,
   "metadata": {},
   "outputs": [],
   "source": [
    "# dropped['Is_Middle_School'] = np.where(dropped['Is_Middle_School']=='Y', 1, 0)"
   ]
  },
  {
   "cell_type": "code",
   "execution_count": 74,
   "metadata": {},
   "outputs": [],
   "source": [
    "# dropped['Is_High_School'] = np.where(dropped['Is_High_School']=='Y', 1, 0)"
   ]
  },
  {
   "cell_type": "markdown",
   "metadata": {},
   "source": [
    "Could reconsider dropping School_Type and School Theil instead of Network and School Entropy"
   ]
  },
  {
   "cell_type": "code",
   "execution_count": 76,
   "metadata": {},
   "outputs": [],
   "source": [
    "dropped.drop(['District_Student_Count', 'School_Theil', 'Network_Entropy', 'Location', 'Overall_Rating', 'Graduation_Rate_Mean', 'College_Enrollment_Rate_Mean', \n",
    "'Mean_ACT', 'School_Latitude', 'School_Longitude', 'Classroom_Languages', 'Student_Count_Total','Network'], axis=1, inplace=True)"
   ]
  },
  {
   "cell_type": "code",
   "execution_count": 77,
   "metadata": {},
   "outputs": [
    {
     "name": "stdout",
     "output_type": "stream",
     "text": [
      "<class 'pandas.core.frame.DataFrame'>\n",
      "Int64Index: 524 entries, 294 to 418\n",
      "Data columns (total 32 columns):\n",
      "School_Type                                524 non-null object\n",
      "Is_High_School                             524 non-null int64\n",
      "Is_Middle_School                           524 non-null int64\n",
      "Is_Elementary_School                       524 non-null int64\n",
      "Is_Pre_School                              524 non-null int64\n",
      "Student_Count_Low_Income                   524 non-null int64\n",
      "Student_Count_Special_Ed                   524 non-null int64\n",
      "Student_Count_English_Learners             524 non-null int64\n",
      "Student_Count_Black                        524 non-null int64\n",
      "Student_Count_Hispanic                     524 non-null int64\n",
      "Student_Count_White                        524 non-null int64\n",
      "Student_Count_Asian                        524 non-null int64\n",
      "Student_Count_Native_American              524 non-null int64\n",
      "Student_Count_Asian_Pacific_Islander       524 non-null int64\n",
      "Student_Count_Multi                        524 non-null int64\n",
      "Student_Count_Hawaiian_Pacific_Islander    524 non-null int64\n",
      "ADA_Accessible                             524 non-null object\n",
      "Dress_Code                                 524 non-null int64\n",
      "PreK_School_Day                            524 non-null object\n",
      "Kindergarten_School_Day                    524 non-null int64\n",
      "Bilingual_Services                         524 non-null int64\n",
      "Refugee_Services                           524 non-null int64\n",
      "Title_1_Eligible                           524 non-null int64\n",
      "PreSchool_Inclusive                        524 non-null int64\n",
      "Preschool_Instructional                    524 non-null int64\n",
      "Hard_Of_Hearing                            524 non-null int64\n",
      "Visual_Impairments                         524 non-null int64\n",
      "Average_ACT_School                         524 non-null float64\n",
      "College_Enrollment_Rate_School             524 non-null float64\n",
      "Graduation_Rate_School                     524 non-null float64\n",
      "Rating_Status                              524 non-null object\n",
      "School_Entropy                             524 non-null float64\n",
      "dtypes: float64(4), int64(24), object(4)\n",
      "memory usage: 135.1+ KB\n"
     ]
    }
   ],
   "source": [
    "dropped.info()"
   ]
  },
  {
   "cell_type": "code",
   "execution_count": 78,
   "metadata": {},
   "outputs": [
    {
     "data": {
      "text/plain": [
       "<matplotlib.axes._subplots.AxesSubplot at 0x7fc4451c36d8>"
      ]
     },
     "execution_count": 78,
     "metadata": {},
     "output_type": "execute_result"
    },
    {
     "data": {
      "image/png": "[encoded data removed]",
      "text/plain": [
       "<Figure size 432x288 with 2 Axes>"
      ]
     },
     "metadata": {
      "needs_background": "light"
     },
     "output_type": "display_data"
    }
   ],
   "source": [
    "corr = dropped.corr()\n",
    "\n",
    "# plot the heatmap\n",
    "sns.heatmap(corr, \n",
    "        xticklabels=corr.columns,\n",
    "        yticklabels=corr.columns)"
   ]
  },
  {
   "cell_type": "code",
   "execution_count": 87,
   "metadata": {},
   "outputs": [
    {
     "name": "stdout",
     "output_type": "stream",
     "text": [
      "<class 'pandas.core.frame.DataFrame'>\n",
      "Int64Index: 524 entries, 294 to 418\n",
      "Data columns (total 32 columns):\n",
      "School_Type                                524 non-null object\n",
      "Is_High_School                             524 non-null int64\n",
      "Is_Middle_School                           524 non-null int64\n",
      "Is_Elementary_School                       524 non-null int64\n",
      "Is_Pre_School                              524 non-null int64\n",
      "Student_Count_Low_Income                   524 non-null int64\n",
      "Student_Count_Special_Ed                   524 non-null int64\n",
      "Student_Count_English_Learners             524 non-null int64\n",
      "Student_Count_Black                        524 non-null int64\n",
      "Student_Count_Hispanic                     524 non-null int64\n",
      "Student_Count_White                        524 non-null int64\n",
      "Student_Count_Asian                        524 non-null int64\n",
      "Student_Count_Native_American              524 non-null int64\n",
      "Student_Count_Asian_Pacific_Islander       524 non-null int64\n",
      "Student_Count_Multi                        524 non-null int64\n",
      "Student_Count_Hawaiian_Pacific_Islander    524 non-null int64\n",
      "ADA_Accessible                             524 non-null object\n",
      "Dress_Code                                 524 non-null int64\n",
      "PreK_School_Day                            524 non-null object\n",
      "Kindergarten_School_Day                    524 non-null int64\n",
      "Bilingual_Services                         524 non-null int64\n",
      "Refugee_Services                           524 non-null int64\n",
      "Title_1_Eligible                           524 non-null int64\n",
      "PreSchool_Inclusive                        524 non-null int64\n",
      "Preschool_Instructional                    524 non-null int64\n",
      "Hard_Of_Hearing                            524 non-null int64\n",
      "Visual_Impairments                         524 non-null int64\n",
      "Average_ACT_School                         524 non-null float64\n",
      "College_Enrollment_Rate_School             524 non-null float64\n",
      "Graduation_Rate_School                     524 non-null float64\n",
      "Rating_Status                              524 non-null object\n",
      "School_Entropy                             524 non-null float64\n",
      "dtypes: float64(4), int64(24), object(4)\n",
      "memory usage: 135.1+ KB\n"
     ]
    }
   ],
   "source": [
    "dropped.info()"
   ]
  },
  {
   "cell_type": "code",
   "execution_count": 80,
   "metadata": {},
   "outputs": [],
   "source": [
    "dropped_dummies = pd.get_dummies(dropped)"
   ]
  },
  {
   "cell_type": "code",
   "execution_count": 81,
   "metadata": {},
   "outputs": [],
   "source": [
    "drop_lin_reg = ['Is_Pre_School', 'School_Type_Career academy', 'ADA_Accessible_No/unknown accessibility', \n",
    "                'PreK_School_Day_0', 'Rating_Status_Not Applicable']"
   ]
  },
  {
   "cell_type": "code",
   "execution_count": 82,
   "metadata": {},
   "outputs": [],
   "source": [
    "dropped_dummies.drop(drop_lin_reg, axis=1, inplace=True)"
   ]
  },
  {
   "cell_type": "code",
   "execution_count": 83,
   "metadata": {},
   "outputs": [],
   "source": [
    "y_train = dropped_dummies.pop('School_Entropy')"
   ]
  },
  {
   "cell_type": "code",
   "execution_count": 84,
   "metadata": {},
   "outputs": [
    {
     "name": "stderr",
     "output_type": "stream",
     "text": [
      "/home/neha/anaconda3/lib/python3.6/site-packages/ipykernel_launcher.py:2: DataConversionWarning: Data with input dtype uint8, int64, float64 were all converted to float64 by the scale function.\n",
      "  \n"
     ]
    }
   ],
   "source": [
    "X_train = dropped_dummies\n",
    "X_scaled = preprocessing.scale(X_train)"
   ]
  },
  {
   "cell_type": "code",
   "execution_count": 85,
   "metadata": {},
   "outputs": [],
   "source": [
    "# X_scaled = sm.add_constant(X_train, has_constant='add')"
   ]
  },
  {
   "cell_type": "code",
   "execution_count": 86,
   "metadata": {
    "scrolled": false
   },
   "outputs": [
    {
     "name": "stderr",
     "output_type": "stream",
     "text": [
      "/home/neha/anaconda3/lib/python3.6/site-packages/numpy/core/fromnumeric.py:2223: FutureWarning: Method .ptp is deprecated and will be removed in a future version. Use numpy.ptp instead.\n",
      "  return ptp(axis=axis, out=out, **kwargs)\n"
     ]
    },
    {
     "data": {
      "text/html": [
       "<table class=\"simpletable\">\n",
       "<caption>OLS Regression Results</caption>\n",
       "<tr>\n",
       "  <th>Dep. Variable:</th>     <td>School_Entropy</td>  <th>  R-squared:         </th> <td>   0.695</td>\n",
       "</tr>\n",
       "<tr>\n",
       "  <th>Model:</th>                   <td>OLS</td>       <th>  Adj. R-squared:    </th> <td>   0.666</td>\n",
       "</tr>\n",
       "<tr>\n",
       "  <th>Method:</th>             <td>Least Squares</td>  <th>  F-statistic:       </th> <td>   23.63</td>\n",
       "</tr>\n",
       "<tr>\n",
       "  <th>Date:</th>             <td>Mon, 06 May 2019</td> <th>  Prob (F-statistic):</th> <td>1.77e-95</td>\n",
       "</tr>\n",
       "<tr>\n",
       "  <th>Time:</th>                 <td>16:04:43</td>     <th>  Log-Likelihood:    </th> <td>  12.563</td>\n",
       "</tr>\n",
       "<tr>\n",
       "  <th>No. Observations:</th>      <td>   524</td>      <th>  AIC:               </th> <td>   68.87</td>\n",
       "</tr>\n",
       "<tr>\n",
       "  <th>Df Residuals:</th>          <td>   477</td>      <th>  BIC:               </th> <td>   269.2</td>\n",
       "</tr>\n",
       "<tr>\n",
       "  <th>Df Model:</th>              <td>    46</td>      <th>                     </th>     <td> </td>   \n",
       "</tr>\n",
       "<tr>\n",
       "  <th>Covariance Type:</th>      <td>nonrobust</td>    <th>                     </th>     <td> </td>   \n",
       "</tr>\n",
       "</table>\n",
       "<table class=\"simpletable\">\n",
       "<tr>\n",
       "                       <td></td>                         <th>coef</th>     <th>std err</th>      <th>t</th>      <th>P>|t|</th>  <th>[0.025</th>    <th>0.975]</th>  \n",
       "</tr>\n",
       "<tr>\n",
       "  <th>const</th>                                      <td>    0.0296</td> <td>    0.235</td> <td>    0.126</td> <td> 0.900</td> <td>   -0.432</td> <td>    0.491</td>\n",
       "</tr>\n",
       "<tr>\n",
       "  <th>Is_High_School</th>                             <td>    0.2716</td> <td>    0.079</td> <td>    3.420</td> <td> 0.001</td> <td>    0.116</td> <td>    0.428</td>\n",
       "</tr>\n",
       "<tr>\n",
       "  <th>Is_Middle_School</th>                           <td>    0.0629</td> <td>    0.041</td> <td>    1.549</td> <td> 0.122</td> <td>   -0.017</td> <td>    0.143</td>\n",
       "</tr>\n",
       "<tr>\n",
       "  <th>Is_Elementary_School</th>                       <td>    0.0849</td> <td>    0.080</td> <td>    1.055</td> <td> 0.292</td> <td>   -0.073</td> <td>    0.243</td>\n",
       "</tr>\n",
       "<tr>\n",
       "  <th>Student_Count_Low_Income</th>                   <td>    0.0004</td> <td>    0.000</td> <td>    1.406</td> <td> 0.161</td> <td>   -0.000</td> <td>    0.001</td>\n",
       "</tr>\n",
       "<tr>\n",
       "  <th>Student_Count_Special_Ed</th>                   <td>    0.0014</td> <td>    0.000</td> <td>    2.842</td> <td> 0.005</td> <td>    0.000</td> <td>    0.002</td>\n",
       "</tr>\n",
       "<tr>\n",
       "  <th>Student_Count_English_Learners</th>             <td>    0.0002</td> <td>    0.000</td> <td>    1.318</td> <td> 0.188</td> <td>   -0.000</td> <td>    0.001</td>\n",
       "</tr>\n",
       "<tr>\n",
       "  <th>Student_Count_Black</th>                        <td>   -0.0009</td> <td>    0.000</td> <td>   -3.890</td> <td> 0.000</td> <td>   -0.001</td> <td>   -0.000</td>\n",
       "</tr>\n",
       "<tr>\n",
       "  <th>Student_Count_Hispanic</th>                     <td>   -0.0009</td> <td>    0.000</td> <td>   -3.507</td> <td> 0.000</td> <td>   -0.001</td> <td>   -0.000</td>\n",
       "</tr>\n",
       "<tr>\n",
       "  <th>Student_Count_White</th>                        <td>   -0.0006</td> <td>    0.000</td> <td>   -3.205</td> <td> 0.001</td> <td>   -0.001</td> <td>   -0.000</td>\n",
       "</tr>\n",
       "<tr>\n",
       "  <th>Student_Count_Asian</th>                        <td>    0.0003</td> <td>    0.000</td> <td>    0.785</td> <td> 0.433</td> <td>   -0.000</td> <td>    0.001</td>\n",
       "</tr>\n",
       "<tr>\n",
       "  <th>Student_Count_Native_American</th>              <td>    0.0260</td> <td>    0.005</td> <td>    4.838</td> <td> 0.000</td> <td>    0.015</td> <td>    0.037</td>\n",
       "</tr>\n",
       "<tr>\n",
       "  <th>Student_Count_Asian_Pacific_Islander</th>       <td>   -0.0629</td> <td>    0.048</td> <td>   -1.314</td> <td> 0.190</td> <td>   -0.157</td> <td>    0.031</td>\n",
       "</tr>\n",
       "<tr>\n",
       "  <th>Student_Count_Multi</th>                        <td>    0.0155</td> <td>    0.002</td> <td>    7.455</td> <td> 0.000</td> <td>    0.011</td> <td>    0.020</td>\n",
       "</tr>\n",
       "<tr>\n",
       "  <th>Student_Count_Hawaiian_Pacific_Islander</th>    <td>    0.0062</td> <td>    0.005</td> <td>    1.279</td> <td> 0.202</td> <td>   -0.003</td> <td>    0.016</td>\n",
       "</tr>\n",
       "<tr>\n",
       "  <th>Dress_Code</th>                                 <td>   -0.0688</td> <td>    0.037</td> <td>   -1.842</td> <td> 0.066</td> <td>   -0.142</td> <td>    0.005</td>\n",
       "</tr>\n",
       "<tr>\n",
       "  <th>Kindergarten_School_Day</th>                    <td>    0.1064</td> <td>    0.068</td> <td>    1.571</td> <td> 0.117</td> <td>   -0.027</td> <td>    0.240</td>\n",
       "</tr>\n",
       "<tr>\n",
       "  <th>Bilingual_Services</th>                         <td>    0.0975</td> <td>    0.028</td> <td>    3.489</td> <td> 0.001</td> <td>    0.043</td> <td>    0.152</td>\n",
       "</tr>\n",
       "<tr>\n",
       "  <th>Refugee_Services</th>                           <td>    0.2233</td> <td>    0.065</td> <td>    3.442</td> <td> 0.001</td> <td>    0.096</td> <td>    0.351</td>\n",
       "</tr>\n",
       "<tr>\n",
       "  <th>Title_1_Eligible</th>                           <td>   -0.2258</td> <td>    0.053</td> <td>   -4.278</td> <td> 0.000</td> <td>   -0.330</td> <td>   -0.122</td>\n",
       "</tr>\n",
       "<tr>\n",
       "  <th>PreSchool_Inclusive</th>                        <td>    0.0643</td> <td>    0.039</td> <td>    1.650</td> <td> 0.100</td> <td>   -0.012</td> <td>    0.141</td>\n",
       "</tr>\n",
       "<tr>\n",
       "  <th>Preschool_Instructional</th>                    <td>   -0.0370</td> <td>    0.049</td> <td>   -0.761</td> <td> 0.447</td> <td>   -0.132</td> <td>    0.059</td>\n",
       "</tr>\n",
       "<tr>\n",
       "  <th>Hard_Of_Hearing</th>                            <td>    0.0008</td> <td>    0.081</td> <td>    0.010</td> <td> 0.992</td> <td>   -0.158</td> <td>    0.160</td>\n",
       "</tr>\n",
       "<tr>\n",
       "  <th>Visual_Impairments</th>                         <td>   -0.0403</td> <td>    0.108</td> <td>   -0.374</td> <td> 0.708</td> <td>   -0.252</td> <td>    0.171</td>\n",
       "</tr>\n",
       "<tr>\n",
       "  <th>Average_ACT_School</th>                         <td>    0.0245</td> <td>    0.008</td> <td>    3.166</td> <td> 0.002</td> <td>    0.009</td> <td>    0.040</td>\n",
       "</tr>\n",
       "<tr>\n",
       "  <th>College_Enrollment_Rate_School</th>             <td>    0.0035</td> <td>    0.002</td> <td>    2.014</td> <td> 0.045</td> <td> 8.52e-05</td> <td>    0.007</td>\n",
       "</tr>\n",
       "<tr>\n",
       "  <th>Graduation_Rate_School</th>                     <td>   -0.0019</td> <td>    0.001</td> <td>   -1.489</td> <td> 0.137</td> <td>   -0.004</td> <td>    0.001</td>\n",
       "</tr>\n",
       "<tr>\n",
       "  <th>School_Type_Charter</th>                        <td>   -0.1838</td> <td>    0.204</td> <td>   -0.901</td> <td> 0.368</td> <td>   -0.585</td> <td>    0.217</td>\n",
       "</tr>\n",
       "<tr>\n",
       "  <th>School_Type_Citywide-Option</th>                <td>   -0.0271</td> <td>    0.187</td> <td>   -0.145</td> <td> 0.885</td> <td>   -0.394</td> <td>    0.340</td>\n",
       "</tr>\n",
       "<tr>\n",
       "  <th>School_Type_Classical</th>                      <td>    0.0135</td> <td>    0.251</td> <td>    0.054</td> <td> 0.957</td> <td>   -0.480</td> <td>    0.507</td>\n",
       "</tr>\n",
       "<tr>\n",
       "  <th>School_Type_Contract</th>                       <td>    0.2600</td> <td>    0.218</td> <td>    1.194</td> <td> 0.233</td> <td>   -0.168</td> <td>    0.688</td>\n",
       "</tr>\n",
       "<tr>\n",
       "  <th>School_Type_Magnet</th>                         <td>    0.1472</td> <td>    0.168</td> <td>    0.878</td> <td> 0.380</td> <td>   -0.182</td> <td>    0.477</td>\n",
       "</tr>\n",
       "<tr>\n",
       "  <th>School_Type_Military academy</th>               <td>    0.3016</td> <td>    0.201</td> <td>    1.503</td> <td> 0.134</td> <td>   -0.093</td> <td>    0.696</td>\n",
       "</tr>\n",
       "<tr>\n",
       "  <th>School_Type_Neighborhood</th>                   <td>    0.0372</td> <td>    0.161</td> <td>    0.231</td> <td> 0.818</td> <td>   -0.279</td> <td>    0.354</td>\n",
       "</tr>\n",
       "<tr>\n",
       "  <th>School_Type_Regional gifted center</th>         <td>    0.0329</td> <td>    0.191</td> <td>    0.173</td> <td> 0.863</td> <td>   -0.342</td> <td>    0.407</td>\n",
       "</tr>\n",
       "<tr>\n",
       "  <th>School_Type_Selective enrollment</th>           <td>   -0.0183</td> <td>    0.193</td> <td>   -0.095</td> <td> 0.924</td> <td>   -0.397</td> <td>    0.360</td>\n",
       "</tr>\n",
       "<tr>\n",
       "  <th>School_Type_Small</th>                          <td>   -0.0104</td> <td>    0.169</td> <td>   -0.062</td> <td> 0.951</td> <td>   -0.342</td> <td>    0.321</td>\n",
       "</tr>\n",
       "<tr>\n",
       "  <th>School_Type_Special Education</th>              <td>    0.3069</td> <td>    0.200</td> <td>    1.532</td> <td> 0.126</td> <td>   -0.087</td> <td>    0.701</td>\n",
       "</tr>\n",
       "<tr>\n",
       "  <th>ADA_Accessible_Fully Accessible</th>            <td>   -0.0107</td> <td>    0.033</td> <td>   -0.324</td> <td> 0.746</td> <td>   -0.076</td> <td>    0.054</td>\n",
       "</tr>\n",
       "<tr>\n",
       "  <th>ADA_Accessible_Generally accessible</th>        <td>    0.0268</td> <td>    0.027</td> <td>    0.986</td> <td> 0.325</td> <td>   -0.027</td> <td>    0.080</td>\n",
       "</tr>\n",
       "<tr>\n",
       "  <th>PreK_School_Day_Full Day</th>                   <td>   -0.0399</td> <td>    0.050</td> <td>   -0.790</td> <td> 0.430</td> <td>   -0.139</td> <td>    0.059</td>\n",
       "</tr>\n",
       "<tr>\n",
       "  <th>PreK_School_Day_Full and Half Day</th>          <td>   -0.0442</td> <td>    0.054</td> <td>   -0.825</td> <td> 0.410</td> <td>   -0.149</td> <td>    0.061</td>\n",
       "</tr>\n",
       "<tr>\n",
       "  <th>PreK_School_Day_Half Day</th>                   <td>   -0.0127</td> <td>    0.042</td> <td>   -0.306</td> <td> 0.759</td> <td>   -0.094</td> <td>    0.069</td>\n",
       "</tr>\n",
       "<tr>\n",
       "  <th>PreK_School_Day_Programs Special Education</th> <td>    0.0034</td> <td>    0.222</td> <td>    0.015</td> <td> 0.988</td> <td>   -0.433</td> <td>    0.440</td>\n",
       "</tr>\n",
       "<tr>\n",
       "  <th>Rating_Status_Good Standing</th>                <td>   -0.0632</td> <td>    0.112</td> <td>   -0.565</td> <td> 0.572</td> <td>   -0.283</td> <td>    0.156</td>\n",
       "</tr>\n",
       "<tr>\n",
       "  <th>Rating_Status_Intensive Support</th>            <td>   -0.1638</td> <td>    0.119</td> <td>   -1.379</td> <td> 0.169</td> <td>   -0.397</td> <td>    0.070</td>\n",
       "</tr>\n",
       "<tr>\n",
       "  <th>Rating_Status_Provisional Support</th>          <td>   -0.0354</td> <td>    0.116</td> <td>   -0.305</td> <td> 0.760</td> <td>   -0.263</td> <td>    0.193</td>\n",
       "</tr>\n",
       "</table>\n",
       "<table class=\"simpletable\">\n",
       "<tr>\n",
       "  <th>Omnibus:</th>       <td>18.106</td> <th>  Durbin-Watson:     </th> <td>   1.945</td>\n",
       "</tr>\n",
       "<tr>\n",
       "  <th>Prob(Omnibus):</th> <td> 0.000</td> <th>  Jarque-Bera (JB):  </th> <td>  19.090</td>\n",
       "</tr>\n",
       "<tr>\n",
       "  <th>Skew:</th>          <td> 0.438</td> <th>  Prob(JB):          </th> <td>7.15e-05</td>\n",
       "</tr>\n",
       "<tr>\n",
       "  <th>Kurtosis:</th>      <td> 3.326</td> <th>  Cond. No.          </th> <td>3.80e+04</td>\n",
       "</tr>\n",
       "</table><br/><br/>Warnings:<br/>[1] Standard Errors assume that the covariance matrix of the errors is correctly specified.<br/>[2] The condition number is large, 3.8e+04. This might indicate that there are<br/>strong multicollinearity or other numerical problems."
      ],
      "text/plain": [
       "<class 'statsmodels.iolib.summary.Summary'>\n",
       "\"\"\"\n",
       "                            OLS Regression Results                            \n",
       "==============================================================================\n",
       "Dep. Variable:         School_Entropy   R-squared:                       0.695\n",
       "Model:                            OLS   Adj. R-squared:                  0.666\n",
       "Method:                 Least Squares   F-statistic:                     23.63\n",
       "Date:                Mon, 06 May 2019   Prob (F-statistic):           1.77e-95\n",
       "Time:                        16:04:43   Log-Likelihood:                 12.563\n",
       "No. Observations:                 524   AIC:                             68.87\n",
       "Df Residuals:                     477   BIC:                             269.2\n",
       "Df Model:                          46                                         \n",
       "Covariance Type:            nonrobust                                         \n",
       "==============================================================================================================\n",
       "                                                 coef    std err          t      P>|t|      [0.025      0.975]\n",
       "--------------------------------------------------------------------------------------------------------------\n",
       "const                                          0.0296      0.235      0.126      0.900      -0.432       0.491\n",
       "Is_High_School                                 0.2716      0.079      3.420      0.001       0.116       0.428\n",
       "Is_Middle_School                               0.0629      0.041      1.549      0.122      -0.017       0.143\n",
       "Is_Elementary_School                           0.0849      0.080      1.055      0.292      -0.073       0.243\n",
       "Student_Count_Low_Income                       0.0004      0.000      1.406      0.161      -0.000       0.001\n",
       "Student_Count_Special_Ed                       0.0014      0.000      2.842      0.005       0.000       0.002\n",
       "Student_Count_English_Learners                 0.0002      0.000      1.318      0.188      -0.000       0.001\n",
       "Student_Count_Black                           -0.0009      0.000     -3.890      0.000      -0.001      -0.000\n",
       "Student_Count_Hispanic                        -0.0009      0.000     -3.507      0.000      -0.001      -0.000\n",
       "Student_Count_White                           -0.0006      0.000     -3.205      0.001      -0.001      -0.000\n",
       "Student_Count_Asian                            0.0003      0.000      0.785      0.433      -0.000       0.001\n",
       "Student_Count_Native_American                  0.0260      0.005      4.838      0.000       0.015       0.037\n",
       "Student_Count_Asian_Pacific_Islander          -0.0629      0.048     -1.314      0.190      -0.157       0.031\n",
       "Student_Count_Multi                            0.0155      0.002      7.455      0.000       0.011       0.020\n",
       "Student_Count_Hawaiian_Pacific_Islander        0.0062      0.005      1.279      0.202      -0.003       0.016\n",
       "Dress_Code                                    -0.0688      0.037     -1.842      0.066      -0.142       0.005\n",
       "Kindergarten_School_Day                        0.1064      0.068      1.571      0.117      -0.027       0.240\n",
       "Bilingual_Services                             0.0975      0.028      3.489      0.001       0.043       0.152\n",
       "Refugee_Services                               0.2233      0.065      3.442      0.001       0.096       0.351\n",
       "Title_1_Eligible                              -0.2258      0.053     -4.278      0.000      -0.330      -0.122\n",
       "PreSchool_Inclusive                            0.0643      0.039      1.650      0.100      -0.012       0.141\n",
       "Preschool_Instructional                       -0.0370      0.049     -0.761      0.447      -0.132       0.059\n",
       "Hard_Of_Hearing                                0.0008      0.081      0.010      0.992      -0.158       0.160\n",
       "Visual_Impairments                            -0.0403      0.108     -0.374      0.708      -0.252       0.171\n",
       "Average_ACT_School                             0.0245      0.008      3.166      0.002       0.009       0.040\n",
       "College_Enrollment_Rate_School                 0.0035      0.002      2.014      0.045    8.52e-05       0.007\n",
       "Graduation_Rate_School                        -0.0019      0.001     -1.489      0.137      -0.004       0.001\n",
       "School_Type_Charter                           -0.1838      0.204     -0.901      0.368      -0.585       0.217\n",
       "School_Type_Citywide-Option                   -0.0271      0.187     -0.145      0.885      -0.394       0.340\n",
       "School_Type_Classical                          0.0135      0.251      0.054      0.957      -0.480       0.507\n",
       "School_Type_Contract                           0.2600      0.218      1.194      0.233      -0.168       0.688\n",
       "School_Type_Magnet                             0.1472      0.168      0.878      0.380      -0.182       0.477\n",
       "School_Type_Military academy                   0.3016      0.201      1.503      0.134      -0.093       0.696\n",
       "School_Type_Neighborhood                       0.0372      0.161      0.231      0.818      -0.279       0.354\n",
       "School_Type_Regional gifted center             0.0329      0.191      0.173      0.863      -0.342       0.407\n",
       "School_Type_Selective enrollment              -0.0183      0.193     -0.095      0.924      -0.397       0.360\n",
       "School_Type_Small                             -0.0104      0.169     -0.062      0.951      -0.342       0.321\n",
       "School_Type_Special Education                  0.3069      0.200      1.532      0.126      -0.087       0.701\n",
       "ADA_Accessible_Fully Accessible               -0.0107      0.033     -0.324      0.746      -0.076       0.054\n",
       "ADA_Accessible_Generally accessible            0.0268      0.027      0.986      0.325      -0.027       0.080\n",
       "PreK_School_Day_Full Day                      -0.0399      0.050     -0.790      0.430      -0.139       0.059\n",
       "PreK_School_Day_Full and Half Day             -0.0442      0.054     -0.825      0.410      -0.149       0.061\n",
       "PreK_School_Day_Half Day                      -0.0127      0.042     -0.306      0.759      -0.094       0.069\n",
       "PreK_School_Day_Programs Special Education     0.0034      0.222      0.015      0.988      -0.433       0.440\n",
       "Rating_Status_Good Standing                   -0.0632      0.112     -0.565      0.572      -0.283       0.156\n",
       "Rating_Status_Intensive Support               -0.1638      0.119     -1.379      0.169      -0.397       0.070\n",
       "Rating_Status_Provisional Support             -0.0354      0.116     -0.305      0.760      -0.263       0.193\n",
       "==============================================================================\n",
       "Omnibus:                       18.106   Durbin-Watson:                   1.945\n",
       "Prob(Omnibus):                  0.000   Jarque-Bera (JB):               19.090\n",
       "Skew:                           0.438   Prob(JB):                     7.15e-05\n",
       "Kurtosis:                       3.326   Cond. No.                     3.80e+04\n",
       "==============================================================================\n",
       "\n",
       "Warnings:\n",
       "[1] Standard Errors assume that the covariance matrix of the errors is correctly specified.\n",
       "[2] The condition number is large, 3.8e+04. This might indicate that there are\n",
       "strong multicollinearity or other numerical problems.\n",
       "\"\"\""
      ]
     },
     "execution_count": 86,
     "metadata": {},
     "output_type": "execute_result"
    }
   ],
   "source": [
    "X_scaled = sm.add_constant(X_train, has_constant='add')\n",
    "model = sm.OLS(y_train, X_scaled).fit() \n",
    "predictions = model.predict(X_scaled)\n",
    "model.summary()"
   ]
  },
  {
   "cell_type": "code",
   "execution_count": 44,
   "metadata": {},
   "outputs": [
    {
     "data": {
      "text/html": [
       "<table class=\"simpletable\">\n",
       "<caption>OLS Regression Results</caption>\n",
       "<tr>\n",
       "  <th>Dep. Variable:</th>     <td>School_Entropy</td>  <th>  R-squared:         </th> <td>   0.682</td>\n",
       "</tr>\n",
       "<tr>\n",
       "  <th>Model:</th>                   <td>OLS</td>       <th>  Adj. R-squared:    </th> <td>   0.651</td>\n",
       "</tr>\n",
       "<tr>\n",
       "  <th>Method:</th>             <td>Least Squares</td>  <th>  F-statistic:       </th> <td>   22.18</td>\n",
       "</tr>\n",
       "<tr>\n",
       "  <th>Date:</th>             <td>Mon, 01 Apr 2019</td> <th>  Prob (F-statistic):</th> <td>4.54e-91</td>\n",
       "</tr>\n",
       "<tr>\n",
       "  <th>Time:</th>                 <td>23:51:41</td>     <th>  Log-Likelihood:    </th> <td>  8.6386</td>\n",
       "</tr>\n",
       "<tr>\n",
       "  <th>No. Observations:</th>      <td>   523</td>      <th>  AIC:               </th> <td>   76.72</td>\n",
       "</tr>\n",
       "<tr>\n",
       "  <th>Df Residuals:</th>          <td>   476</td>      <th>  BIC:               </th> <td>   276.9</td>\n",
       "</tr>\n",
       "<tr>\n",
       "  <th>Df Model:</th>              <td>    46</td>      <th>                     </th>     <td> </td>   \n",
       "</tr>\n",
       "<tr>\n",
       "  <th>Covariance Type:</th>      <td>nonrobust</td>    <th>                     </th>     <td> </td>   \n",
       "</tr>\n",
       "</table>\n",
       "<table class=\"simpletable\">\n",
       "<tr>\n",
       "                       <td></td>                         <th>coef</th>     <th>std err</th>      <th>t</th>      <th>P>|t|</th>  <th>[0.025</th>    <th>0.975]</th>  \n",
       "</tr>\n",
       "<tr>\n",
       "  <th>const</th>                                      <td>    0.1370</td> <td>    0.256</td> <td>    0.535</td> <td> 0.593</td> <td>   -0.366</td> <td>    0.640</td>\n",
       "</tr>\n",
       "<tr>\n",
       "  <th>Is_High_School</th>                             <td>    0.1644</td> <td>    0.076</td> <td>    2.153</td> <td> 0.032</td> <td>    0.014</td> <td>    0.314</td>\n",
       "</tr>\n",
       "<tr>\n",
       "  <th>Is_Middle_School</th>                           <td>    0.0450</td> <td>    0.039</td> <td>    1.142</td> <td> 0.254</td> <td>   -0.032</td> <td>    0.122</td>\n",
       "</tr>\n",
       "<tr>\n",
       "  <th>Is_Elementary_School</th>                       <td>    0.0472</td> <td>    0.077</td> <td>    0.615</td> <td> 0.539</td> <td>   -0.104</td> <td>    0.198</td>\n",
       "</tr>\n",
       "<tr>\n",
       "  <th>Student_Count_Low_Income</th>                   <td>    0.0004</td> <td>    0.000</td> <td>    1.403</td> <td> 0.161</td> <td>   -0.000</td> <td>    0.001</td>\n",
       "</tr>\n",
       "<tr>\n",
       "  <th>Student_Count_Special_Ed</th>                   <td>    0.0017</td> <td>    0.000</td> <td>    3.493</td> <td> 0.001</td> <td>    0.001</td> <td>    0.003</td>\n",
       "</tr>\n",
       "<tr>\n",
       "  <th>Student_Count_English_Learners</th>             <td>    0.0002</td> <td>    0.000</td> <td>    1.255</td> <td> 0.210</td> <td>   -0.000</td> <td>    0.001</td>\n",
       "</tr>\n",
       "<tr>\n",
       "  <th>Student_Count_Black</th>                        <td>   -0.0010</td> <td>    0.000</td> <td>   -3.818</td> <td> 0.000</td> <td>   -0.001</td> <td>   -0.000</td>\n",
       "</tr>\n",
       "<tr>\n",
       "  <th>Student_Count_Hispanic</th>                     <td>   -0.0009</td> <td>    0.000</td> <td>   -3.504</td> <td> 0.001</td> <td>   -0.001</td> <td>   -0.000</td>\n",
       "</tr>\n",
       "<tr>\n",
       "  <th>Student_Count_White</th>                        <td>   -0.0005</td> <td>    0.000</td> <td>   -3.297</td> <td> 0.001</td> <td>   -0.001</td> <td>   -0.000</td>\n",
       "</tr>\n",
       "<tr>\n",
       "  <th>Student_Count_Asian</th>                        <td>    0.0002</td> <td>    0.000</td> <td>    0.723</td> <td> 0.470</td> <td>   -0.000</td> <td>    0.001</td>\n",
       "</tr>\n",
       "<tr>\n",
       "  <th>Student_Count_Native_American</th>              <td>    0.0300</td> <td>    0.006</td> <td>    4.989</td> <td> 0.000</td> <td>    0.018</td> <td>    0.042</td>\n",
       "</tr>\n",
       "<tr>\n",
       "  <th>Student_Count_Asian_Pacific_Islander</th>       <td>    0.1952</td> <td>    0.161</td> <td>    1.209</td> <td> 0.227</td> <td>   -0.122</td> <td>    0.512</td>\n",
       "</tr>\n",
       "<tr>\n",
       "  <th>Student_Count_Multi</th>                        <td>    0.0138</td> <td>    0.002</td> <td>    7.002</td> <td> 0.000</td> <td>    0.010</td> <td>    0.018</td>\n",
       "</tr>\n",
       "<tr>\n",
       "  <th>Student_Count_Hawaiian_Pacific_Islander</th>    <td>    0.0034</td> <td>    0.006</td> <td>    0.550</td> <td> 0.583</td> <td>   -0.009</td> <td>    0.015</td>\n",
       "</tr>\n",
       "<tr>\n",
       "  <th>Dress_Code</th>                                 <td>   -0.0752</td> <td>    0.039</td> <td>   -1.935</td> <td> 0.054</td> <td>   -0.152</td> <td>    0.001</td>\n",
       "</tr>\n",
       "<tr>\n",
       "  <th>Kindergarten_School_Day</th>                    <td>    0.0620</td> <td>    0.068</td> <td>    0.917</td> <td> 0.360</td> <td>   -0.071</td> <td>    0.195</td>\n",
       "</tr>\n",
       "<tr>\n",
       "  <th>Bilingual_Services</th>                         <td>    0.0908</td> <td>    0.028</td> <td>    3.215</td> <td> 0.001</td> <td>    0.035</td> <td>    0.146</td>\n",
       "</tr>\n",
       "<tr>\n",
       "  <th>Refugee_Services</th>                           <td>    0.2689</td> <td>    0.069</td> <td>    3.909</td> <td> 0.000</td> <td>    0.134</td> <td>    0.404</td>\n",
       "</tr>\n",
       "<tr>\n",
       "  <th>Title_1_Eligible</th>                           <td>   -0.2370</td> <td>    0.053</td> <td>   -4.439</td> <td> 0.000</td> <td>   -0.342</td> <td>   -0.132</td>\n",
       "</tr>\n",
       "<tr>\n",
       "  <th>PreSchool_Inclusive</th>                        <td>    0.0392</td> <td>    0.040</td> <td>    0.971</td> <td> 0.332</td> <td>   -0.040</td> <td>    0.118</td>\n",
       "</tr>\n",
       "<tr>\n",
       "  <th>Preschool_Instructional</th>                    <td>   -0.0125</td> <td>    0.047</td> <td>   -0.267</td> <td> 0.789</td> <td>   -0.104</td> <td>    0.079</td>\n",
       "</tr>\n",
       "<tr>\n",
       "  <th>Hard_Of_Hearing</th>                            <td>   -0.0866</td> <td>    0.087</td> <td>   -1.000</td> <td> 0.318</td> <td>   -0.257</td> <td>    0.084</td>\n",
       "</tr>\n",
       "<tr>\n",
       "  <th>Visual_Impairments</th>                         <td>   -0.0531</td> <td>    0.109</td> <td>   -0.485</td> <td> 0.628</td> <td>   -0.268</td> <td>    0.162</td>\n",
       "</tr>\n",
       "<tr>\n",
       "  <th>Average_ACT_School</th>                         <td>    0.0375</td> <td>    0.009</td> <td>    4.061</td> <td> 0.000</td> <td>    0.019</td> <td>    0.056</td>\n",
       "</tr>\n",
       "<tr>\n",
       "  <th>College_Enrollment_Rate_School</th>             <td>    0.0027</td> <td>    0.002</td> <td>    1.378</td> <td> 0.169</td> <td>   -0.001</td> <td>    0.007</td>\n",
       "</tr>\n",
       "<tr>\n",
       "  <th>Graduation_Rate_School</th>                     <td>   -0.0018</td> <td>    0.001</td> <td>   -1.282</td> <td> 0.200</td> <td>   -0.005</td> <td>    0.001</td>\n",
       "</tr>\n",
       "<tr>\n",
       "  <th>School_Type_Charter</th>                        <td>   -0.3507</td> <td>    0.213</td> <td>   -1.648</td> <td> 0.100</td> <td>   -0.769</td> <td>    0.068</td>\n",
       "</tr>\n",
       "<tr>\n",
       "  <th>School_Type_Citywide-Option</th>                <td>   -0.0954</td> <td>    0.196</td> <td>   -0.487</td> <td> 0.626</td> <td>   -0.480</td> <td>    0.290</td>\n",
       "</tr>\n",
       "<tr>\n",
       "  <th>School_Type_Classical</th>                      <td>    0.0197</td> <td>    0.208</td> <td>    0.095</td> <td> 0.924</td> <td>   -0.388</td> <td>    0.428</td>\n",
       "</tr>\n",
       "<tr>\n",
       "  <th>School_Type_Contract</th>                       <td>    0.1356</td> <td>    0.209</td> <td>    0.649</td> <td> 0.517</td> <td>   -0.275</td> <td>    0.546</td>\n",
       "</tr>\n",
       "<tr>\n",
       "  <th>School_Type_Magnet</th>                         <td>    0.1723</td> <td>    0.171</td> <td>    1.010</td> <td> 0.313</td> <td>   -0.163</td> <td>    0.507</td>\n",
       "</tr>\n",
       "<tr>\n",
       "  <th>School_Type_Military academy</th>               <td>    0.3678</td> <td>    0.203</td> <td>    1.811</td> <td> 0.071</td> <td>   -0.031</td> <td>    0.767</td>\n",
       "</tr>\n",
       "<tr>\n",
       "  <th>School_Type_Neighborhood</th>                   <td>    0.0393</td> <td>    0.164</td> <td>    0.239</td> <td> 0.811</td> <td>   -0.284</td> <td>    0.362</td>\n",
       "</tr>\n",
       "<tr>\n",
       "  <th>School_Type_Regional gifted center</th>         <td>    0.0064</td> <td>    0.187</td> <td>    0.034</td> <td> 0.973</td> <td>   -0.361</td> <td>    0.374</td>\n",
       "</tr>\n",
       "<tr>\n",
       "  <th>School_Type_Selective enrollment</th>           <td>    0.0441</td> <td>    0.202</td> <td>    0.219</td> <td> 0.827</td> <td>   -0.352</td> <td>    0.440</td>\n",
       "</tr>\n",
       "<tr>\n",
       "  <th>School_Type_Small</th>                          <td>    0.0327</td> <td>    0.173</td> <td>    0.190</td> <td> 0.850</td> <td>   -0.306</td> <td>    0.372</td>\n",
       "</tr>\n",
       "<tr>\n",
       "  <th>School_Type_Special Education</th>              <td>    0.2642</td> <td>    0.202</td> <td>    1.306</td> <td> 0.192</td> <td>   -0.133</td> <td>    0.662</td>\n",
       "</tr>\n",
       "<tr>\n",
       "  <th>ADA_Accessible_Fully Accessible</th>            <td>   -0.0103</td> <td>    0.033</td> <td>   -0.313</td> <td> 0.754</td> <td>   -0.075</td> <td>    0.054</td>\n",
       "</tr>\n",
       "<tr>\n",
       "  <th>ADA_Accessible_Generally accessible</th>        <td>    0.0116</td> <td>    0.027</td> <td>    0.429</td> <td> 0.668</td> <td>   -0.042</td> <td>    0.065</td>\n",
       "</tr>\n",
       "<tr>\n",
       "  <th>PreK_School_Day_Full Day</th>                   <td>   -0.1002</td> <td>    0.052</td> <td>   -1.937</td> <td> 0.053</td> <td>   -0.202</td> <td>    0.001</td>\n",
       "</tr>\n",
       "<tr>\n",
       "  <th>PreK_School_Day_Full and Half Day</th>          <td>   -0.0752</td> <td>    0.056</td> <td>   -1.346</td> <td> 0.179</td> <td>   -0.185</td> <td>    0.035</td>\n",
       "</tr>\n",
       "<tr>\n",
       "  <th>PreK_School_Day_Half Day</th>                   <td>   -0.0456</td> <td>    0.042</td> <td>   -1.092</td> <td> 0.275</td> <td>   -0.128</td> <td>    0.036</td>\n",
       "</tr>\n",
       "<tr>\n",
       "  <th>PreK_School_Day_Programs Special Education</th> <td>   -0.1175</td> <td>    0.288</td> <td>   -0.408</td> <td> 0.683</td> <td>   -0.684</td> <td>    0.449</td>\n",
       "</tr>\n",
       "<tr>\n",
       "  <th>Rating_Status_Good Standing</th>                <td>   -0.2071</td> <td>    0.117</td> <td>   -1.772</td> <td> 0.077</td> <td>   -0.437</td> <td>    0.023</td>\n",
       "</tr>\n",
       "<tr>\n",
       "  <th>Rating_Status_Intensive Support</th>            <td>   -0.2866</td> <td>    0.124</td> <td>   -2.312</td> <td> 0.021</td> <td>   -0.530</td> <td>   -0.043</td>\n",
       "</tr>\n",
       "<tr>\n",
       "  <th>Rating_Status_Provisional Support</th>          <td>   -0.1855</td> <td>    0.121</td> <td>   -1.530</td> <td> 0.127</td> <td>   -0.424</td> <td>    0.053</td>\n",
       "</tr>\n",
       "</table>\n",
       "<table class=\"simpletable\">\n",
       "<tr>\n",
       "  <th>Omnibus:</th>       <td>11.822</td> <th>  Durbin-Watson:     </th> <td>   1.809</td>\n",
       "</tr>\n",
       "<tr>\n",
       "  <th>Prob(Omnibus):</th> <td> 0.003</td> <th>  Jarque-Bera (JB):  </th> <td>  11.970</td>\n",
       "</tr>\n",
       "<tr>\n",
       "  <th>Skew:</th>          <td> 0.357</td> <th>  Prob(JB):          </th> <td> 0.00252</td>\n",
       "</tr>\n",
       "<tr>\n",
       "  <th>Kurtosis:</th>      <td> 3.198</td> <th>  Cond. No.          </th> <td>3.81e+04</td>\n",
       "</tr>\n",
       "</table><br/><br/>Warnings:<br/>[1] Standard Errors assume that the covariance matrix of the errors is correctly specified.<br/>[2] The condition number is large, 3.81e+04. This might indicate that there are<br/>strong multicollinearity or other numerical problems."
      ],
      "text/plain": [
       "<class 'statsmodels.iolib.summary.Summary'>\n",
       "\"\"\"\n",
       "                            OLS Regression Results                            \n",
       "==============================================================================\n",
       "Dep. Variable:         School_Entropy   R-squared:                       0.682\n",
       "Model:                            OLS   Adj. R-squared:                  0.651\n",
       "Method:                 Least Squares   F-statistic:                     22.18\n",
       "Date:                Mon, 01 Apr 2019   Prob (F-statistic):           4.54e-91\n",
       "Time:                        23:51:41   Log-Likelihood:                 8.6386\n",
       "No. Observations:                 523   AIC:                             76.72\n",
       "Df Residuals:                     476   BIC:                             276.9\n",
       "Df Model:                          46                                         \n",
       "Covariance Type:            nonrobust                                         \n",
       "==============================================================================================================\n",
       "                                                 coef    std err          t      P>|t|      [0.025      0.975]\n",
       "--------------------------------------------------------------------------------------------------------------\n",
       "const                                          0.1370      0.256      0.535      0.593      -0.366       0.640\n",
       "Is_High_School                                 0.1644      0.076      2.153      0.032       0.014       0.314\n",
       "Is_Middle_School                               0.0450      0.039      1.142      0.254      -0.032       0.122\n",
       "Is_Elementary_School                           0.0472      0.077      0.615      0.539      -0.104       0.198\n",
       "Student_Count_Low_Income                       0.0004      0.000      1.403      0.161      -0.000       0.001\n",
       "Student_Count_Special_Ed                       0.0017      0.000      3.493      0.001       0.001       0.003\n",
       "Student_Count_English_Learners                 0.0002      0.000      1.255      0.210      -0.000       0.001\n",
       "Student_Count_Black                           -0.0010      0.000     -3.818      0.000      -0.001      -0.000\n",
       "Student_Count_Hispanic                        -0.0009      0.000     -3.504      0.001      -0.001      -0.000\n",
       "Student_Count_White                           -0.0005      0.000     -3.297      0.001      -0.001      -0.000\n",
       "Student_Count_Asian                            0.0002      0.000      0.723      0.470      -0.000       0.001\n",
       "Student_Count_Native_American                  0.0300      0.006      4.989      0.000       0.018       0.042\n",
       "Student_Count_Asian_Pacific_Islander           0.1952      0.161      1.209      0.227      -0.122       0.512\n",
       "Student_Count_Multi                            0.0138      0.002      7.002      0.000       0.010       0.018\n",
       "Student_Count_Hawaiian_Pacific_Islander        0.0034      0.006      0.550      0.583      -0.009       0.015\n",
       "Dress_Code                                    -0.0752      0.039     -1.935      0.054      -0.152       0.001\n",
       "Kindergarten_School_Day                        0.0620      0.068      0.917      0.360      -0.071       0.195\n",
       "Bilingual_Services                             0.0908      0.028      3.215      0.001       0.035       0.146\n",
       "Refugee_Services                               0.2689      0.069      3.909      0.000       0.134       0.404\n",
       "Title_1_Eligible                              -0.2370      0.053     -4.439      0.000      -0.342      -0.132\n",
       "PreSchool_Inclusive                            0.0392      0.040      0.971      0.332      -0.040       0.118\n",
       "Preschool_Instructional                       -0.0125      0.047     -0.267      0.789      -0.104       0.079\n",
       "Hard_Of_Hearing                               -0.0866      0.087     -1.000      0.318      -0.257       0.084\n",
       "Visual_Impairments                            -0.0531      0.109     -0.485      0.628      -0.268       0.162\n",
       "Average_ACT_School                             0.0375      0.009      4.061      0.000       0.019       0.056\n",
       "College_Enrollment_Rate_School                 0.0027      0.002      1.378      0.169      -0.001       0.007\n",
       "Graduation_Rate_School                        -0.0018      0.001     -1.282      0.200      -0.005       0.001\n",
       "School_Type_Charter                           -0.3507      0.213     -1.648      0.100      -0.769       0.068\n",
       "School_Type_Citywide-Option                   -0.0954      0.196     -0.487      0.626      -0.480       0.290\n",
       "School_Type_Classical                          0.0197      0.208      0.095      0.924      -0.388       0.428\n",
       "School_Type_Contract                           0.1356      0.209      0.649      0.517      -0.275       0.546\n",
       "School_Type_Magnet                             0.1723      0.171      1.010      0.313      -0.163       0.507\n",
       "School_Type_Military academy                   0.3678      0.203      1.811      0.071      -0.031       0.767\n",
       "School_Type_Neighborhood                       0.0393      0.164      0.239      0.811      -0.284       0.362\n",
       "School_Type_Regional gifted center             0.0064      0.187      0.034      0.973      -0.361       0.374\n",
       "School_Type_Selective enrollment               0.0441      0.202      0.219      0.827      -0.352       0.440\n",
       "School_Type_Small                              0.0327      0.173      0.190      0.850      -0.306       0.372\n",
       "School_Type_Special Education                  0.2642      0.202      1.306      0.192      -0.133       0.662\n",
       "ADA_Accessible_Fully Accessible               -0.0103      0.033     -0.313      0.754      -0.075       0.054\n",
       "ADA_Accessible_Generally accessible            0.0116      0.027      0.429      0.668      -0.042       0.065\n",
       "PreK_School_Day_Full Day                      -0.1002      0.052     -1.937      0.053      -0.202       0.001\n",
       "PreK_School_Day_Full and Half Day             -0.0752      0.056     -1.346      0.179      -0.185       0.035\n",
       "PreK_School_Day_Half Day                      -0.0456      0.042     -1.092      0.275      -0.128       0.036\n",
       "PreK_School_Day_Programs Special Education    -0.1175      0.288     -0.408      0.683      -0.684       0.449\n",
       "Rating_Status_Good Standing                   -0.2071      0.117     -1.772      0.077      -0.437       0.023\n",
       "Rating_Status_Intensive Support               -0.2866      0.124     -2.312      0.021      -0.530      -0.043\n",
       "Rating_Status_Provisional Support             -0.1855      0.121     -1.530      0.127      -0.424       0.053\n",
       "==============================================================================\n",
       "Omnibus:                       11.822   Durbin-Watson:                   1.809\n",
       "Prob(Omnibus):                  0.003   Jarque-Bera (JB):               11.970\n",
       "Skew:                           0.357   Prob(JB):                      0.00252\n",
       "Kurtosis:                       3.198   Cond. No.                     3.81e+04\n",
       "==============================================================================\n",
       "\n",
       "Warnings:\n",
       "[1] Standard Errors assume that the covariance matrix of the errors is correctly specified.\n",
       "[2] The condition number is large, 3.81e+04. This might indicate that there are\n",
       "strong multicollinearity or other numerical problems.\n",
       "\"\"\""
      ]
     },
     "execution_count": 44,
     "metadata": {},
     "output_type": "execute_result"
    }
   ],
   "source": [
    "# model.summary()"
   ]
  },
  {
   "cell_type": "code",
   "execution_count": 45,
   "metadata": {},
   "outputs": [
    {
     "name": "stderr",
     "output_type": "stream",
     "text": [
      "/home/neha/anaconda3/lib/python3.6/site-packages/sklearn/linear_model/coordinate_descent.py:492: ConvergenceWarning: Objective did not converge. You might want to increase the number of iterations. Fitting data with very small alpha may cause precision problems.\n",
      "  ConvergenceWarning)\n",
      "/home/neha/anaconda3/lib/python3.6/site-packages/sklearn/linear_model/coordinate_descent.py:492: ConvergenceWarning: Objective did not converge. You might want to increase the number of iterations. Fitting data with very small alpha may cause precision problems.\n",
      "  ConvergenceWarning)\n",
      "/home/neha/anaconda3/lib/python3.6/site-packages/sklearn/linear_model/coordinate_descent.py:492: ConvergenceWarning: Objective did not converge. You might want to increase the number of iterations. Fitting data with very small alpha may cause precision problems.\n",
      "  ConvergenceWarning)\n",
      "/home/neha/anaconda3/lib/python3.6/site-packages/sklearn/linear_model/coordinate_descent.py:492: ConvergenceWarning: Objective did not converge. You might want to increase the number of iterations. Fitting data with very small alpha may cause precision problems.\n",
      "  ConvergenceWarning)\n",
      "/home/neha/anaconda3/lib/python3.6/site-packages/sklearn/linear_model/coordinate_descent.py:492: ConvergenceWarning: Objective did not converge. You might want to increase the number of iterations. Fitting data with very small alpha may cause precision problems.\n",
      "  ConvergenceWarning)\n",
      "/home/neha/anaconda3/lib/python3.6/site-packages/sklearn/linear_model/coordinate_descent.py:492: ConvergenceWarning: Objective did not converge. You might want to increase the number of iterations. Fitting data with very small alpha may cause precision problems.\n",
      "  ConvergenceWarning)\n",
      "/home/neha/anaconda3/lib/python3.6/site-packages/sklearn/linear_model/coordinate_descent.py:492: ConvergenceWarning: Objective did not converge. You might want to increase the number of iterations. Fitting data with very small alpha may cause precision problems.\n",
      "  ConvergenceWarning)\n"
     ]
    },
    {
     "name": "stdout",
     "output_type": "stream",
     "text": [
      "{'alpha': 0.0028072162039411755}\n",
      "-0.07110430968241901\n"
     ]
    }
   ],
   "source": [
    "X_scaled = X_scaled.iloc[:, 1:]\n",
    "lasso = Lasso()\n",
    "alphas = np.logspace(-4, 10, 30)\n",
    "parameters = {'alpha': alphas}\n",
    "lasso_regressor = GridSearchCV(lasso, parameters, scoring='neg_mean_squared_error', cv=5)\n",
    "lasso_regressor.fit(X_scaled, y_train)\n",
    "print(lasso_regressor.best_params_)\n",
    "print(lasso_regressor.best_score_)"
   ]
  },
  {
   "cell_type": "code",
   "execution_count": 46,
   "metadata": {},
   "outputs": [
    {
     "data": {
      "text/plain": [
       "(0.0001, 10000000000.0)"
      ]
     },
     "execution_count": 46,
     "metadata": {},
     "output_type": "execute_result"
    },
    {
     "data": {
      "image/png": "[encoded data removed]",
      "text/plain": [
       "<Figure size 576x432 with 1 Axes>"
      ]
     },
     "metadata": {
      "needs_background": "light"
     },
     "output_type": "display_data"
    }
   ],
   "source": [
    "scores = lasso_regressor.cv_results_['mean_test_score']\n",
    "scores_std = lasso_regressor.cv_results_['std_test_score']\n",
    "plt.figure().set_size_inches(8, 6)\n",
    "plt.semilogx(alphas, scores)\n",
    "\n",
    "# plot error lines showing +/- std. errors of the scores\n",
    "std_error = scores_std / np.sqrt(5)\n",
    "\n",
    "# plt.semilogx(alphas, scores + std_error, 'b--')\n",
    "# plt.semilogx(alphas, scores - std_error, 'b--')\n",
    "\n",
    "# alpha=0.2 controls the translucency of the fill color\n",
    "# plt.fill_between(alphas, scores + std_error, scores - std_error, alpha=0.2)\n",
    "\n",
    "plt.ylabel('CV score')\n",
    "plt.xlabel('alpha')\n",
    "plt.axhline(np.max(scores), linestyle='--', color='.5')\n",
    "plt.xlim([alphas[0], alphas[-1]])\n"
   ]
  },
  {
   "cell_type": "code",
   "execution_count": 47,
   "metadata": {},
   "outputs": [
    {
     "name": "stdout",
     "output_type": "stream",
     "text": [
      "[ 4.74116858e-02  0.00000000e+00 -0.00000000e+00  3.37142965e-04\n",
      "  1.93758865e-03  2.25343598e-04 -9.50787968e-04 -8.98923543e-04\n",
      " -5.19149356e-04  3.95910975e-04  3.05511211e-02  0.00000000e+00\n",
      "  1.46719808e-02  2.48253624e-03 -7.25681889e-02 -0.00000000e+00\n",
      "  6.49887524e-02  1.46309757e-01 -1.91095330e-01  0.00000000e+00\n",
      " -0.00000000e+00 -0.00000000e+00 -0.00000000e+00  4.22538227e-02\n",
      "  1.18206826e-04 -1.19195634e-04 -1.13563471e-01  0.00000000e+00\n",
      "  0.00000000e+00  0.00000000e+00  9.10089735e-02  1.74147057e-03\n",
      " -1.50043474e-02 -0.00000000e+00 -0.00000000e+00 -0.00000000e+00\n",
      "  0.00000000e+00  0.00000000e+00  0.00000000e+00 -3.62739612e-02\n",
      " -0.00000000e+00 -0.00000000e+00  0.00000000e+00  0.00000000e+00\n",
      " -5.93147357e-02  0.00000000e+00]\n"
     ]
    },
    {
     "data": {
      "text/plain": [
       "-0.007209284380126246"
      ]
     },
     "execution_count": 47,
     "metadata": {},
     "output_type": "execute_result"
    }
   ],
   "source": [
    "reg = Lasso(alpha=.0028)\n",
    "reg.fit(X_scaled, y_train) \n",
    "print(reg.coef_)\n",
    "reg.intercept_ \n"
   ]
  },
  {
   "cell_type": "code",
   "execution_count": 48,
   "metadata": {},
   "outputs": [
    {
     "data": {
      "text/plain": [
       "46"
      ]
     },
     "execution_count": 48,
     "metadata": {},
     "output_type": "execute_result"
    }
   ],
   "source": [
    "len(reg.coef_)"
   ]
  },
  {
   "cell_type": "code",
   "execution_count": 49,
   "metadata": {},
   "outputs": [
    {
     "data": {
      "text/plain": [
       "46"
      ]
     },
     "execution_count": 49,
     "metadata": {},
     "output_type": "execute_result"
    }
   ],
   "source": [
    "len(X_scaled.columns)"
   ]
  },
  {
   "cell_type": "code",
   "execution_count": 51,
   "metadata": {},
   "outputs": [
    {
     "name": "stdout",
     "output_type": "stream",
     "text": [
      "('Is_High_School', 0.04741168584306294)\n",
      "('Is_Middle_School', 0.0)\n",
      "('Is_Elementary_School', -0.0)\n",
      "('Student_Count_Low_Income', 0.00033714296524330094)\n",
      "('Student_Count_Special_Ed', 0.0019375886463730526)\n",
      "('Student_Count_English_Learners', 0.00022534359804570622)\n",
      "('Student_Count_Black', -0.000950787967583961)\n",
      "('Student_Count_Hispanic', -0.0008989235433590137)\n",
      "('Student_Count_White', -0.0005191493559210791)\n",
      "('Student_Count_Asian', 0.0003959109750887457)\n",
      "('Student_Count_Native_American', 0.030551121079055752)\n",
      "('Student_Count_Asian_Pacific_Islander', 0.0)\n",
      "('Student_Count_Multi', 0.014671980771538518)\n",
      "('Student_Count_Hawaiian_Pacific_Islander', 0.002482536238483663)\n",
      "('Dress_Code', -0.07256818886351932)\n",
      "('Kindergarten_School_Day', -0.0)\n",
      "('Bilingual_Services', 0.06498875237142787)\n",
      "('Refugee_Services', 0.14630975677819483)\n",
      "('Title_1_Eligible', -0.19109532970648999)\n",
      "('PreSchool_Inclusive', 0.0)\n",
      "('Preschool_Instructional', -0.0)\n",
      "('Hard_Of_Hearing', -0.0)\n",
      "('Visual_Impairments', -0.0)\n",
      "('Average_ACT_School', 0.042253822728939454)\n",
      "('College_Enrollment_Rate_School', 0.00011820682622694977)\n",
      "('Graduation_Rate_School', -0.00011919563354163717)\n",
      "('School_Type_Charter', -0.11356347061420288)\n",
      "('School_Type_Citywide-Option', 0.0)\n",
      "('School_Type_Classical', 0.0)\n",
      "('School_Type_Contract', 0.0)\n",
      "('School_Type_Magnet', 0.09100897348655888)\n",
      "('School_Type_Military academy', 0.001741470569700518)\n",
      "('School_Type_Neighborhood', -0.015004347402774535)\n",
      "('School_Type_Regional gifted center', -0.0)\n",
      "('School_Type_Selective enrollment', -0.0)\n",
      "('School_Type_Small', -0.0)\n",
      "('School_Type_Special Education', 0.0)\n",
      "('ADA_Accessible_Fully Accessible', 0.0)\n",
      "('ADA_Accessible_Generally accessible', 0.0)\n",
      "('PreK_School_Day_Full Day', -0.03627396120169418)\n",
      "('PreK_School_Day_Full and Half Day', -0.0)\n",
      "('PreK_School_Day_Half Day', -0.0)\n",
      "('PreK_School_Day_Programs Special Education', 0.0)\n",
      "('Rating_Status_Good Standing', 0.0)\n",
      "('Rating_Status_Intensive Support', -0.059314735721891665)\n",
      "('Rating_Status_Provisional Support', 0.0)\n"
     ]
    }
   ],
   "source": [
    "for tup in zip(X_scaled.columns, reg.coef_):\n",
    "    print(tup)"
   ]
  },
  {
   "cell_type": "code",
   "execution_count": 54,
   "metadata": {},
   "outputs": [],
   "source": [
    "lasso_drop = ['Is_Middle_School',\n",
    "'Is_Elementary_School',\n",
    "'Kindergarten_School_Day',\n",
    "'PreSchool_Inclusive',\n",
    "'Preschool_Instructional',\n",
    "'Hard_Of_Hearing', \n",
    "'Visual_Impairments', \n",
    "'School_Type_Citywide-Option', \n",
    "'School_Type_Classical', \n",
    "'School_Type_Contract', \n",
    "'School_Type_Regional gifted center', \n",
    "'School_Type_Selective enrollment', \n",
    "'School_Type_Small', \n",
    "'School_Type_Special Education', \n",
    "'ADA_Accessible_Fully Accessible', \n",
    "'ADA_Accessible_Generally accessible',\n",
    "'PreK_School_Day_Full and Half Day', \n",
    "'PreK_School_Day_Half Day', \n",
    "'PreK_School_Day_Programs Special Education', \n",
    "'Rating_Status_Provisional Support']\n"
   ]
  },
  {
   "cell_type": "code",
   "execution_count": 55,
   "metadata": {},
   "outputs": [],
   "source": [
    "new_X_scaled = X_scaled.drop(lasso_drop, axis=1)"
   ]
  },
  {
   "cell_type": "code",
   "execution_count": 57,
   "metadata": {},
   "outputs": [
    {
     "data": {
      "text/html": [
       "<table class=\"simpletable\">\n",
       "<caption>OLS Regression Results</caption>\n",
       "<tr>\n",
       "  <th>Dep. Variable:</th>     <td>School_Entropy</td>  <th>  R-squared:         </th> <td>   0.673</td> \n",
       "</tr>\n",
       "<tr>\n",
       "  <th>Model:</th>                   <td>OLS</td>       <th>  Adj. R-squared:    </th> <td>   0.656</td> \n",
       "</tr>\n",
       "<tr>\n",
       "  <th>Method:</th>             <td>Least Squares</td>  <th>  F-statistic:       </th> <td>   39.21</td> \n",
       "</tr>\n",
       "<tr>\n",
       "  <th>Date:</th>             <td>Tue, 02 Apr 2019</td> <th>  Prob (F-statistic):</th> <td>6.86e-103</td>\n",
       "</tr>\n",
       "<tr>\n",
       "  <th>Time:</th>                 <td>00:00:50</td>     <th>  Log-Likelihood:    </th> <td>  1.1977</td> \n",
       "</tr>\n",
       "<tr>\n",
       "  <th>No. Observations:</th>      <td>   523</td>      <th>  AIC:               </th> <td>   51.60</td> \n",
       "</tr>\n",
       "<tr>\n",
       "  <th>Df Residuals:</th>          <td>   496</td>      <th>  BIC:               </th> <td>   166.6</td> \n",
       "</tr>\n",
       "<tr>\n",
       "  <th>Df Model:</th>              <td>    26</td>      <th>                     </th>     <td> </td>    \n",
       "</tr>\n",
       "<tr>\n",
       "  <th>Covariance Type:</th>      <td>nonrobust</td>    <th>                     </th>     <td> </td>    \n",
       "</tr>\n",
       "</table>\n",
       "<table class=\"simpletable\">\n",
       "<tr>\n",
       "                     <td></td>                        <th>coef</th>     <th>std err</th>      <th>t</th>      <th>P>|t|</th>  <th>[0.025</th>    <th>0.975]</th>  \n",
       "</tr>\n",
       "<tr>\n",
       "  <th>const</th>                                   <td>    0.0551</td> <td>    0.131</td> <td>    0.419</td> <td> 0.676</td> <td>   -0.203</td> <td>    0.313</td>\n",
       "</tr>\n",
       "<tr>\n",
       "  <th>Is_High_School</th>                          <td>    0.0514</td> <td>    0.037</td> <td>    1.384</td> <td> 0.167</td> <td>   -0.022</td> <td>    0.124</td>\n",
       "</tr>\n",
       "<tr>\n",
       "  <th>Student_Count_Low_Income</th>                <td>    0.0004</td> <td>    0.000</td> <td>    1.297</td> <td> 0.195</td> <td>   -0.000</td> <td>    0.001</td>\n",
       "</tr>\n",
       "<tr>\n",
       "  <th>Student_Count_Special_Ed</th>                <td>    0.0020</td> <td>    0.000</td> <td>    5.160</td> <td> 0.000</td> <td>    0.001</td> <td>    0.003</td>\n",
       "</tr>\n",
       "<tr>\n",
       "  <th>Student_Count_English_Learners</th>          <td>    0.0003</td> <td>    0.000</td> <td>    1.614</td> <td> 0.107</td> <td>   -6e-05</td> <td>    0.001</td>\n",
       "</tr>\n",
       "<tr>\n",
       "  <th>Student_Count_Black</th>                     <td>   -0.0009</td> <td>    0.000</td> <td>   -3.933</td> <td> 0.000</td> <td>   -0.001</td> <td>   -0.000</td>\n",
       "</tr>\n",
       "<tr>\n",
       "  <th>Student_Count_Hispanic</th>                  <td>   -0.0009</td> <td>    0.000</td> <td>   -3.734</td> <td> 0.000</td> <td>   -0.001</td> <td>   -0.000</td>\n",
       "</tr>\n",
       "<tr>\n",
       "  <th>Student_Count_White</th>                     <td>   -0.0005</td> <td>    0.000</td> <td>   -3.325</td> <td> 0.001</td> <td>   -0.001</td> <td>   -0.000</td>\n",
       "</tr>\n",
       "<tr>\n",
       "  <th>Student_Count_Asian</th>                     <td>    0.0003</td> <td>    0.000</td> <td>    0.828</td> <td> 0.408</td> <td>   -0.000</td> <td>    0.001</td>\n",
       "</tr>\n",
       "<tr>\n",
       "  <th>Student_Count_Native_American</th>           <td>    0.0297</td> <td>    0.006</td> <td>    5.037</td> <td> 0.000</td> <td>    0.018</td> <td>    0.041</td>\n",
       "</tr>\n",
       "<tr>\n",
       "  <th>Student_Count_Asian_Pacific_Islander</th>    <td>    0.1987</td> <td>    0.153</td> <td>    1.301</td> <td> 0.194</td> <td>   -0.101</td> <td>    0.499</td>\n",
       "</tr>\n",
       "<tr>\n",
       "  <th>Student_Count_Multi</th>                     <td>    0.0136</td> <td>    0.002</td> <td>    7.473</td> <td> 0.000</td> <td>    0.010</td> <td>    0.017</td>\n",
       "</tr>\n",
       "<tr>\n",
       "  <th>Student_Count_Hawaiian_Pacific_Islander</th> <td>    0.0036</td> <td>    0.006</td> <td>    0.597</td> <td> 0.551</td> <td>   -0.008</td> <td>    0.015</td>\n",
       "</tr>\n",
       "<tr>\n",
       "  <th>Dress_Code</th>                              <td>   -0.0762</td> <td>    0.037</td> <td>   -2.069</td> <td> 0.039</td> <td>   -0.149</td> <td>   -0.004</td>\n",
       "</tr>\n",
       "<tr>\n",
       "  <th>Bilingual_Services</th>                      <td>    0.0904</td> <td>    0.027</td> <td>    3.353</td> <td> 0.001</td> <td>    0.037</td> <td>    0.143</td>\n",
       "</tr>\n",
       "<tr>\n",
       "  <th>Refugee_Services</th>                        <td>    0.2584</td> <td>    0.068</td> <td>    3.823</td> <td> 0.000</td> <td>    0.126</td> <td>    0.391</td>\n",
       "</tr>\n",
       "<tr>\n",
       "  <th>Title_1_Eligible</th>                        <td>   -0.2348</td> <td>    0.050</td> <td>   -4.695</td> <td> 0.000</td> <td>   -0.333</td> <td>   -0.137</td>\n",
       "</tr>\n",
       "<tr>\n",
       "  <th>Average_ACT_School</th>                      <td>    0.0403</td> <td>    0.008</td> <td>    4.773</td> <td> 0.000</td> <td>    0.024</td> <td>    0.057</td>\n",
       "</tr>\n",
       "<tr>\n",
       "  <th>College_Enrollment_Rate_School</th>          <td>    0.0023</td> <td>    0.002</td> <td>    1.268</td> <td> 0.205</td> <td>   -0.001</td> <td>    0.006</td>\n",
       "</tr>\n",
       "<tr>\n",
       "  <th>Graduation_Rate_School</th>                  <td>   -0.0014</td> <td>    0.001</td> <td>   -1.151</td> <td> 0.250</td> <td>   -0.004</td> <td>    0.001</td>\n",
       "</tr>\n",
       "<tr>\n",
       "  <th>School_Type_Charter</th>                     <td>   -0.1913</td> <td>    0.056</td> <td>   -3.393</td> <td> 0.001</td> <td>   -0.302</td> <td>   -0.080</td>\n",
       "</tr>\n",
       "<tr>\n",
       "  <th>School_Type_Magnet</th>                      <td>    0.1544</td> <td>    0.056</td> <td>    2.777</td> <td> 0.006</td> <td>    0.045</td> <td>    0.264</td>\n",
       "</tr>\n",
       "<tr>\n",
       "  <th>School_Type_Military academy</th>            <td>    0.3468</td> <td>    0.124</td> <td>    2.801</td> <td> 0.005</td> <td>    0.104</td> <td>    0.590</td>\n",
       "</tr>\n",
       "<tr>\n",
       "  <th>School_Type_Neighborhood</th>                <td>   -0.0052</td> <td>    0.039</td> <td>   -0.132</td> <td> 0.895</td> <td>   -0.082</td> <td>    0.072</td>\n",
       "</tr>\n",
       "<tr>\n",
       "  <th>PreK_School_Day_Full Day</th>                <td>   -0.0662</td> <td>    0.040</td> <td>   -1.671</td> <td> 0.095</td> <td>   -0.144</td> <td>    0.012</td>\n",
       "</tr>\n",
       "<tr>\n",
       "  <th>Rating_Status_Good Standing</th>             <td>   -0.0352</td> <td>    0.039</td> <td>   -0.898</td> <td> 0.370</td> <td>   -0.112</td> <td>    0.042</td>\n",
       "</tr>\n",
       "<tr>\n",
       "  <th>Rating_Status_Intensive Support</th>         <td>   -0.1087</td> <td>    0.046</td> <td>   -2.382</td> <td> 0.018</td> <td>   -0.198</td> <td>   -0.019</td>\n",
       "</tr>\n",
       "</table>\n",
       "<table class=\"simpletable\">\n",
       "<tr>\n",
       "  <th>Omnibus:</th>       <td>11.058</td> <th>  Durbin-Watson:     </th> <td>   1.837</td>\n",
       "</tr>\n",
       "<tr>\n",
       "  <th>Prob(Omnibus):</th> <td> 0.004</td> <th>  Jarque-Bera (JB):  </th> <td>  11.171</td>\n",
       "</tr>\n",
       "<tr>\n",
       "  <th>Skew:</th>          <td> 0.351</td> <th>  Prob(JB):          </th> <td> 0.00375</td>\n",
       "</tr>\n",
       "<tr>\n",
       "  <th>Kurtosis:</th>      <td> 3.142</td> <th>  Cond. No.          </th> <td>1.00e+04</td>\n",
       "</tr>\n",
       "</table><br/><br/>Warnings:<br/>[1] Standard Errors assume that the covariance matrix of the errors is correctly specified.<br/>[2] The condition number is large,  1e+04. This might indicate that there are<br/>strong multicollinearity or other numerical problems."
      ],
      "text/plain": [
       "<class 'statsmodels.iolib.summary.Summary'>\n",
       "\"\"\"\n",
       "                            OLS Regression Results                            \n",
       "==============================================================================\n",
       "Dep. Variable:         School_Entropy   R-squared:                       0.673\n",
       "Model:                            OLS   Adj. R-squared:                  0.656\n",
       "Method:                 Least Squares   F-statistic:                     39.21\n",
       "Date:                Tue, 02 Apr 2019   Prob (F-statistic):          6.86e-103\n",
       "Time:                        00:00:50   Log-Likelihood:                 1.1977\n",
       "No. Observations:                 523   AIC:                             51.60\n",
       "Df Residuals:                     496   BIC:                             166.6\n",
       "Df Model:                          26                                         \n",
       "Covariance Type:            nonrobust                                         \n",
       "===========================================================================================================\n",
       "                                              coef    std err          t      P>|t|      [0.025      0.975]\n",
       "-----------------------------------------------------------------------------------------------------------\n",
       "const                                       0.0551      0.131      0.419      0.676      -0.203       0.313\n",
       "Is_High_School                              0.0514      0.037      1.384      0.167      -0.022       0.124\n",
       "Student_Count_Low_Income                    0.0004      0.000      1.297      0.195      -0.000       0.001\n",
       "Student_Count_Special_Ed                    0.0020      0.000      5.160      0.000       0.001       0.003\n",
       "Student_Count_English_Learners              0.0003      0.000      1.614      0.107      -6e-05       0.001\n",
       "Student_Count_Black                        -0.0009      0.000     -3.933      0.000      -0.001      -0.000\n",
       "Student_Count_Hispanic                     -0.0009      0.000     -3.734      0.000      -0.001      -0.000\n",
       "Student_Count_White                        -0.0005      0.000     -3.325      0.001      -0.001      -0.000\n",
       "Student_Count_Asian                         0.0003      0.000      0.828      0.408      -0.000       0.001\n",
       "Student_Count_Native_American               0.0297      0.006      5.037      0.000       0.018       0.041\n",
       "Student_Count_Asian_Pacific_Islander        0.1987      0.153      1.301      0.194      -0.101       0.499\n",
       "Student_Count_Multi                         0.0136      0.002      7.473      0.000       0.010       0.017\n",
       "Student_Count_Hawaiian_Pacific_Islander     0.0036      0.006      0.597      0.551      -0.008       0.015\n",
       "Dress_Code                                 -0.0762      0.037     -2.069      0.039      -0.149      -0.004\n",
       "Bilingual_Services                          0.0904      0.027      3.353      0.001       0.037       0.143\n",
       "Refugee_Services                            0.2584      0.068      3.823      0.000       0.126       0.391\n",
       "Title_1_Eligible                           -0.2348      0.050     -4.695      0.000      -0.333      -0.137\n",
       "Average_ACT_School                          0.0403      0.008      4.773      0.000       0.024       0.057\n",
       "College_Enrollment_Rate_School              0.0023      0.002      1.268      0.205      -0.001       0.006\n",
       "Graduation_Rate_School                     -0.0014      0.001     -1.151      0.250      -0.004       0.001\n",
       "School_Type_Charter                        -0.1913      0.056     -3.393      0.001      -0.302      -0.080\n",
       "School_Type_Magnet                          0.1544      0.056      2.777      0.006       0.045       0.264\n",
       "School_Type_Military academy                0.3468      0.124      2.801      0.005       0.104       0.590\n",
       "School_Type_Neighborhood                   -0.0052      0.039     -0.132      0.895      -0.082       0.072\n",
       "PreK_School_Day_Full Day                   -0.0662      0.040     -1.671      0.095      -0.144       0.012\n",
       "Rating_Status_Good Standing                -0.0352      0.039     -0.898      0.370      -0.112       0.042\n",
       "Rating_Status_Intensive Support            -0.1087      0.046     -2.382      0.018      -0.198      -0.019\n",
       "==============================================================================\n",
       "Omnibus:                       11.058   Durbin-Watson:                   1.837\n",
       "Prob(Omnibus):                  0.004   Jarque-Bera (JB):               11.171\n",
       "Skew:                           0.351   Prob(JB):                      0.00375\n",
       "Kurtosis:                       3.142   Cond. No.                     1.00e+04\n",
       "==============================================================================\n",
       "\n",
       "Warnings:\n",
       "[1] Standard Errors assume that the covariance matrix of the errors is correctly specified.\n",
       "[2] The condition number is large,  1e+04. This might indicate that there are\n",
       "strong multicollinearity or other numerical problems.\n",
       "\"\"\""
      ]
     },
     "execution_count": 57,
     "metadata": {},
     "output_type": "execute_result"
    }
   ],
   "source": [
    "new_X_scaled = sm.add_constant(new_X_scaled, has_constant='add')\n",
    "model = sm.OLS(y_train, new_X_scaled).fit() \n",
    "predictions = model.predict(new_X_scaled)\n",
    "model.summary()"
   ]
  },
  {
   "cell_type": "code",
   "execution_count": 58,
   "metadata": {},
   "outputs": [
    {
     "data": {
      "text/plain": [
       "<matplotlib.axes._subplots.AxesSubplot at 0x7f4578fe9cf8>"
      ]
     },
     "execution_count": 58,
     "metadata": {},
     "output_type": "execute_result"
    },
    {
     "data": {
      "image/png": "[encoded data removed]",
      "text/plain": [
       "<Figure size 432x288 with 2 Axes>"
      ]
     },
     "metadata": {
      "needs_background": "light"
     },
     "output_type": "display_data"
    }
   ],
   "source": [
    "corr = new_X_scaled.corr()\n",
    "sns.heatmap(corr, \n",
    "        xticklabels=corr.columns,\n",
    "        yticklabels=corr.columns)"
   ]
  },
  {
   "cell_type": "code",
   "execution_count": null,
   "metadata": {},
   "outputs": [],
   "source": []
  }
 ],
 "metadata": {
  "kernelspec": {
   "display_name": "Python 3",
   "language": "python",
   "name": "python3"
  },
  "language_info": {
   "codemirror_mode": {
    "name": "ipython",
    "version": 3
   },
   "file_extension": ".py",
   "mimetype": "text/x-python",
   "name": "python",
   "nbconvert_exporter": "python",
   "pygments_lexer": "ipython3",
   "version": "3.6.8"
  }
 },
 "nbformat": 4,
 "nbformat_minor": 2
}
